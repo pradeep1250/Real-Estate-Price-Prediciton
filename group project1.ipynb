{
 "cells": [
  {
   "cell_type": "markdown",
   "id": "0176eb84",
   "metadata": {},
   "source": [
    "# EDA & PREDICTION ON HOUSE AND PROPERTY PRICES IN PUNE USING MACHINE LEARNING"
   ]
  },
  {
   "cell_type": "markdown",
   "id": "ff2fafe1",
   "metadata": {},
   "source": [
    "<img src=\"data:image/jpeg;base64,/9j/4AAQSkZJRgABAQAAAQABAAD/2wCEAAoHCBUVFRgVFRUZGRgZHBocGhkaGBoaGhkYGBoZHBgYHBgcIS4lHB4rHxoYJjgmKy8xNTU1HCQ7QDszPy40NTEBDAwMEA8QHxISHjQrJCs2NDQ0NDQ2NDQ0NDQ0NDQ0NDQ0NDQ0NDQ0NDQ0NDQ0NDQ0NDQ0NDQ0MTQ0NDQ0NDQ0NP/AABEIAKgBLAMBIgACEQEDEQH/xAAbAAACAwEBAQAAAAAAAAAAAAADBAIFBgABB//EAEgQAAIBAgQDBQMJBgQEBQUAAAECEQADBBIhMQVBUQYTImFxMoGRFEJSobGywdHwIyRicpLhFTNTgmOi0vEWc5PD4jRDVIPC/8QAGQEAAwEBAQAAAAAAAAAAAAAAAQIDAAQF/8QAKREAAgIBAwQCAgIDAQAAAAAAAAECESEDEjEEE0FRYXGBoSIyM5HRBf/aAAwDAQACEQMRAD8A+imhsKKRUGFd6ZwMAwobLRmFQYU6ZNoVcUFxTLigsKomTYu1BYUy4oLLVEyTQswoLLTbLQHWnTJyQq60rcSrB0pZ0qkZEJxEHWgsKcuJQHSqpnHKNMWIqJFFIqDCmAmCIqBFFIqBFYdMd4EP3hP933GrXGsp2fH7wn+/7jVrXFcPU/3X0ev0X+N/ZA0IiikVE1zo62BYUJ6O1CcU6EYEivAKkRXRTAIMKGwoxqDrTJgYIio1NhUYpkAiRUAKIajFYxA14RU2FRphQZFRYURhUSKKMBYVGKI1RimAfTmFCYUwRQyteYmdbQBlqDLTBWhstOmTaFnSgOtOMtBZadMSURR1oLLTbJQ2SnUibiKMlCZabZKE606YjiKOtLOlPMtBZKomSlEQZKA6VYulLOlUjI55wK50oDCnnSlmSqpnJKLTAEVEiiEVEimAmO9nh+8J/v8AuNWwujWst2XtZsVbXrn+45rY4jDsDtFed1Uq1F9HtdAr0m/kRYUM0y1uiJw640Quh5yIg86huS5Z27W+EV7VBhVs/BX+knxb8qieCv8AST4t+VbvQ9h7UvRTEV5FWr8Gcc1+J/KlRgnIkISNdRqNKZasXwxHpyXgSIrxhRWSoFapYlAGFQNMMlCZKdMWgdeCpEV5TWCiJFRii5aiUrWCgTCoEUZlobLRTNQJqhFFZajFPYD6gy1ArRytQK15KZ2tACKgRR2WoEU6YrQBkoLJTRFRZadSJuImyVBkpwpUDbplIVxEGShOlWDW6G1unUibiVrW6GyVZNboL26dTEcSte3S726tWt0B7dUUicoFU9ql7lirZ7dBe3VFMhLSTKR7dBK1cPZpa5Yqqmcs9FrgP2UOXF2m6Z/uPX0h8VKkGCfqr512eSMTb/3/AHHrcOteb1qT1F9Hsf8AmWtF/bFHWraxcVUzMYCrJPQAa1XulJWEsquKKMxYg94CsZWyvtIE8+Zrj1MpHpaeGde4nh8lxPlLS5ch8tzMmfYKY2HKmMXj7L2kb5R3allh5KlijAsusHWIPrWKvss/O/pX86thicMmFtG/bd1L3MoEKQZ1nxihLTSoZTbLvinELSuma/kgh8oDQ6MrAAkaROvuoXBLmZbhBldSOmubX7Kz/asobqEZgDaSBlBhfHAnNvQrWHsvh1F26bYEFCBu2VvIxStJJBTbbLBLoaIEeETrueZ+ypMKouF8SzPDABgJESJB3GvPb66vlYMJFdenN1T5OacFygRWhlKOwqMVZMlQuUrwpTBWvMtHcDaLZa9ij5K8KUdxtoBkoTrTZSvDboqQriI5K8yVY4fBl3CjSTqelWdzgAnwuYrPVUcMy02+DWEVEimClQKV5yZ2NACtRKVPEXkQZmYKJiT16VV4jtLhU3urPTY/XFbfQNjfA8bdd3dZ/E9tMMqhlDMCWAgblQC2wO2YfGkbfbfO6olkjMYlogeftT9Vbur2bsyfg1pt14bdVFjjDhjnAZdNAII9D+dXmFvpcEofUHQj1FFaiYHpNADaoTWqsTbqDW6dTEcCta3QXtVam1SVy8kkTqDGx5U3cS5F7TfBQY7iaW3KFWLCNgI1EjUmqy7xz6Nv4t+AFd2gA+UPH8P3FqrZK5p9TO3teDqh00KW5ZGLvFrh2Cj0H5mjcLxbOxRzJOq6AbbjT9b1XOAN6Y4XblyegEeW9LDqJqSbdhn08JRaSouXs0vctU2U0rraSo8q9LS6lSlVUeZrdI4x3XYHgtuMSh/n+49bIms3wu3F5D/N91q0dT6p3NfRboo7YP7IGkEuqwxI7oJlBDN/qeFvFMD7edWMUk/fhL+cjLlPdRExlaZj3b1yS4O1cmIxDgNGVN+r+f8AFWgwGKxCYW2cPaRyXuZgQSAJ0iXH21Q32uT7Tf1D86vcJh7z4a2Ev90we5mLORmE6CRvFPOqQseSt7XXP2y5kXN3SEyWEHxyNG2mh2cRaTDg3bJuKYAA+b4W1o3a1XF5QCTFtJI2J8cn317w58SLH7uqs0DOGj2crdSOdI+EMuWZbAORdQnWFY6c4VpFa3hV8XLYdZgk776aGfeKx+AP7RMp+a0E8jlaD6VruEXSLcXWXPJJjYjkR7qsmlIm+BwrUStSa8k6MD6TpTDYVonSOs++qb4+xNr9CZWuApi7YZRLKQKDlp074EaojFexUgnWrPAFEmVzTpr+VaUqQYxsqstFtYYt7Kkn0rXWb9tRAUDyA61736AyNPSovWfop2l7MmEdNIKk9dJpm3aukSA0VoWt233WfOnLaqBEUr1vgK0/knFdFTiuioWUoz/atgtpSeT5vXKjmK+Zf4SrMzF28TFoAXTMSYkz1r6Z2xP7Iej/AHY/GsKum9TmykMIXHD0yqhzEJmjxQfHlmYj6IolrCIrKUWGkQZMgk9TTCa/21o2HTxp/MvlzFTsoXbWzJkfDXlU7YgypgjmNxTT29T+uQoTIP707ER6e0To62igYtlhtvaJGvwq6e4Ru4H9NYLi/wDm/wC0faaXzqNWIHqR+NZajRnppm+xWLQI2W6C8aQwOvpVeoliTuSazOExtvMFzoSdgGBJPpWvRayk5NmcVFGO7QWy2IZQSJNsSNDqqzRrXZ5D7Rc+rH8KPxRP3k/z2/upV9at6UkYpvIzbSwZnF8BtKhYIJAkHcyNQdaU4TbOdteQ5etaniGXIyyMxBAEiSToBHWqjhuDZHOYRIEbcpn7RRcaaoVO07GO7PX7KFhTBAPPT8jVgFBmCDBgxyPSqvFPkQvE5RMdarGW1qSElFSTiy74XbAvJIkeL7rVdXrct4Rvyqp4NcDsjD5wJHn4TV0zCr6st0k16IaMdsWn7FntldCKp+6QLiit3OWBzL/pnK+kSd9eXKr4tNUJu2j8rCIyuoIuEnRzleCupjnyFTfBZcmLvIs+0vwf8quBawxwlr5S7Kue5lNtSZM6yChPSqi8yz7Lf1j/AKKu7OKRMLaLYbvwXuQp8WXXech39KrK6QkeWIdrkTvUhhHdW8shpK+ODovSuwtgPhwPlIsRENmy5zlaF9pZ6172vde+TwMJtWzAYAKPH4YKnagJcwy4YfKEdlMZcp1ByNqfEJ0qcuEMuWZrBsO+WR8xpA5jK0j1q2wV62FRUcgEPlRtz4tfhDfGqfBk9+muuRoblOVt6tTnzW89tWaGl1+YdYjyIj40ZAQ8+NQIWLnLmAkTM7x9VOf4wiPkZn1VgAPZJcCCfh7pNVid5kbJaQNn9kjQiPa3GtK8TB78eH6GsHy86Kim6BbRrn4kvdogdS4IzLILKpmDHLlTSIpFY/jV7KU/Z5IdD32suI1Q6cvwrVcIIe0rKZBkgjmJp9P+OBZZHAABAGvM1ACiBKl3R3qliniXCNOVS7w9ahlr2KFGsYs4krTfyyqyK6aDimFNo2Ve1R2e0aH2kceYhh8Zn6qfw/ErTkKreI7Agg6a8xXIWopu2Z8AHk31sgrHJZJVCGCy7ZjrJAQwBAJ3APuNa7tm3hA8h9bj8qzVhJVNtHcmWAgQ68/UUEk5KxsqLo8FqUbxEDOgJ1JIBGnI6zHvomCtDvEA2zLyjz6mvbQBQrmUHOG1MaDKfwo2AH7ZNj4uW2goOtv5Cr3/ABRoLg1NCVM01LE3IJrsGZDUEsh8GS4jbW6zGSARliAfxpS3wi2Op+A/CtKnASNDcE9Av96KOCrMG4Z6QPzpdrG3IzaYJFIYAyNpP5AVaf4xd2GUR/D+ZqyPBrYMF3+r8qm3B7Q5Off+QoqLA5Iz1/EM7F2IzGDMDkIHKh/KXBkOQeo0+ytO3CbI+YT/ALj+dSPDrIE92Npg6/aa2xg3IzGDut3qEsTLruSdyBVzxW8bah1iQRoeYJAIqwt4NBr3agjbQT6zQOI4ZXXI2x6biIg0yjSButguGi2yM9ufGxZwTqHIEg9NhVfxMfsn/lP2VXRdwryNVOk/NcdCORpjEXpRwd8r/jpWWUZ4YXsfjG71UnQZsu2nhcn7a2u9ZrhKL3qZQBvsAPmNWiINViqVCN27JFKqr1y6VxIdFCKrd2QPbGVpnUzy5DerRWqnuoyriibwcMGypn/y/C0jU+Hl8K0goxd3PI8I/wDTX/prRYD5V8lt/JsobPczyqrpOkAgc5rNXkM+0P61/OruzYR8LaV8ULBV7hnOPFJ2kMP0apKqQkeWKdsWcXlzBSe6TNKA+LxzrHWu4ffvJh5s2VuEgZgROVcrajURUe1mt1cjggWrYkOqzGfXU86lgLF18PFu8LbAAklva8LaSN9aSVUhlyzG4SO+XmMjSOcZW2qww5tzayXGUQ8IfniWmY0kH7Kr8Gf3hI0bIYPKcrVanvM1vPbRjDZnEeA6xHPUR8aL8gRN+77ts9xyuf2gDIMba8qDxIDvl1+h16CnEFzI2S2gbP7JAgiPa33pXiYPfDw/Q1g6bedNF5FfB7x46iHzGU/ZmcqaDx7x/wB6tuHcQuoioDkECQsZZ1kL5fnVT2hB0m2AMyQ43cwPB1/7UvhggkBbifs0lPoiGgLPzuR91CWaQUb7h3Ei5Cso2Pi21EQI67/Cm7WKJuKjIAGz6TPsnwtI6jWPOsLZCZkORyRbMOdgIbRv4vzoHA7qBHLNcVfDLWh+030K/j5TS7fkNn0FGDAMNjr8anloXBTmw9lpmUQydzKjU05kq6ZKgQFewKnkoT3QDE0HJLkKi3wZIAqean3irrs1dc37YzEiW89MrTvWc47ikYHxJlOUS8AEDfRtzV32Px1q5ikVHVoVyApnQKRXnKLTVPydjkmsl121f2R/L/8A2ay6t5fZWg7Z3Rm56Ecuik8/WqlMBdPzD8V/Onldix4AIDXnD+MWVdG723EnXOAPZPP3in14dd+hH+5fzrM8F4Rbu43EJcRSAwEdDFzNEe74UqQ14NDiu0diSe9T2iNHnmeWmnntVr2ex6XEdkcEB4nlOVTvz3rD8T7M2lZgmdQGMQ08/wCKa0fYvABMNcE5pd4JAn2EFOpCSRqs6zOYfGvDdWZzD40ovEbIHtoP94+FQbi1gb3E/q/tRsFDxvLM5hXNeUwZPwP5VWvx3Dje7b+J/Kojj2G/1V9yufwrWai0a6p6/wBJ/KvHuiIhvgarD2gw/wDqj+h/yqJ7R4b/AFP+R6275NtLRbn8LfD+9DvjbTr+FIWO0Fh3VFckswUDIw1Jganara+u1FO0CqZV4m0GBDCQeVZp+DoSxL3NSxiRGpJjbatRjXCLmaYkDQTuQBp76z9/ithCyvcVSCQQZ0IPpQxYxbcFWLqAef3GrXvY0kkT6afGsV2c4hau3l7tw+WZgHSUaJ08j8K1dxmPOnsQm9n9CshiFTPiQJDSc87Aw0R7q11nNsNayuMYl8QCgGp8W2eZ3Pl60s26GglZmbyCdzv9EfnTTtZWyneq7DM+WIBGomfEPKg3xrELv1b86etXHW0mS2H1adCY19apqPC+xYLLK3j3trlGmRInp4oo1pMOcMPlLOqx4cgnxZG30OkV5xtGa4ORKLoOvi0pjB3cmG/+nF/T2Ss5fC2vsn0oX/FBf9mY2y0XkLarkMxqdVancO1rPaCO6wHyoZhgS0zGmhn4UiB+2TXXJ+DU1bz50lVI1ltJB1iPWi5eBUixYW8jZncrn3G8xtryoXEUHfLr9D7BTyC5lOVEzZtoERG++9BxtktcmBpkn4ctfKnUsitYF+0OX6bEykprCiB4l5T6daDhLoI8N8sMiESviEg+M8yT08qc4+jlZyAKChDgCZEe15Dz6UrhmcmSbbSi+Ic2gyT/AA9PfQb4MkNreGZB3pko0LBh4BOY9DSXBMQyI7C93bLli5lkL4uhGvT302hfweK3GRpUe0TlOqfw/hSfBZKPlCE+CM5BQwYM6/o0qYzPpXZ4E4awf+Hb+6KsYpTs9b/dbHL9lb+6KsWUdaawbRPFIcuh3OvKN+tfPsfjbpuPF/KAxAURoATHKvofEHAUdJHIHr129a+c3sIpd2KzLEz7W56xUNSaTyOsIxb8QR2zPbzHlDsB+v7U5w69cRs6Aq2UsPGUbLE6FMpGkxJ3jQ0Xh/D8NqLjCdSALmgA+bm0lp8qjg8Mr3md3FtNYkiY2AGukCKRy9BabNlgmuPhMOHZmdjcJLMWP+YYljOgB+qocVwmJe6mVpi2udg5S27htRKidfTai4PH2iEs2z/loZMjKS2U6GZO/TencGxAhnzksDMAQNNNPeffRuhkrVGe4jbuW3yuSpKKcq3GYDwwfEYJ1U6mrPsk0YnFMTOV3BPmP+9A7QlGxMNnmEHhK5dzG+vzqD2UxHjxGk571zXp7B/XrWb/AIpixT3NF8+FvOgL92XM5u7LBd/49Zq14FhXt2GD7lrjDb2Ttt6VVW8USTB5mNY51dYe6/ciQCCry07EMQBHPnrQWHkZuzIcOX92xR/4k+8LNUOOusnDu8Uw4Y5W3MZ1HP1q04EzDAX3efE7nXoE0NVPHHB4UkbFv/dWsgsaug/KMMnzXtMziB4mCKQZ5ak7VW8UUBl8ZXw7CdfPQ1cXAPlmHHMWH+4n9qSx2Evuym2iFconMVmZ8weVasgbwPYe14E5+FdeugqRt09ZtEIobfKJ9YE1zWxS0xrB8It/vFn/AMy398V9KvpoKwXCki/a/nT7wrSdpOKqjBCpJGojXMTyEe7frTKSirYkss7i5Hdmeq/fWK+edqiyXLkBSCjuQRzD21kHr463Fu8rqGEweRFc6KdwD6gVnO/Ayj8iPYuyiXTlULIWYEfMY/ia3NYPjOLNmy7oQrLkIOoHtqCCRrsSPfRcP2rJRSUg5VLS07gaiPM+tNGSrIksM02I42iPkhiRuRED+9UmILM11s2ZWLZI5bzy61ncRxnxso9kkloALDQmJO+sDn6UC3xFkY3CcwcgMFG07ECdTB5fjSylZoumP3kaRvv+vSjhLrW07pwpBacxIn3gHzrsSVgElYJhZ0LTrIXcmBrVDicNhnw1sYi6UQPcylATJzEEaodh5VScsL/gYLLLjiboroXjMAuYzyg8vWdaZ4Qt5rD9wwVsp3iPZbLuDpVXiXAv5VBYdzbj0lgDBjlQMHh1e2yuxXeIGswaW1SsZrLKC4U75Mskd2NTvs31VO0EFxIZgfFC8jvM/XTKW2S6jvZLg2yFQEjK45vlYEABt+vWKUZ3V1OVYEySNQeUa0+5Phk0jQJhgwKwxlp2E7b68qnijlIiQCIPnpA+00M34MAHYEysakTpPKIoeIxYgliJ0AGm8GNN6O6zKNBeNsO6aNTC6RodRzqq4fvPdBPABo2mgbwCNo6+dM8ZxBa0QwEabDU7c5qu4UySRLLCAnOQBAmAP49aKZmhtbsZP2Q8KMs5tU0Ph8+lMf4fatoUTNiGdFZ0y5BMrADTtr5ezVZK+CM/stlOkbH2vOKhgLiLacPnAZVJNuM/tnUH3D3UqeTPg+q9mm/dcONYFq3p08A0qzcjlNZLs/x5Bh7aTBRLYJJnMICsZGxBIEedXK8XtH56zAMSPZ66024FEuM6pEAmREj8eXrXz1tSfCdCQfUHl5VsuMYpCpZEFxogBXyyCYDaalQd5jfnWJxGHfMckAebCfXauTWy7A0zN3uMKPYw9lfVS5J6DMfwrsPeu3nylAq7kpaC6DkCBtUb+M7pslsQBpOUAmRB1I6z8KEeIXSIFxz0gnYxvFFRrhFpUvJreE2EtMXzkkjLBAHn+FX2GvgsNef5/lXzmymJciM56Sx/Oa2/ZrhGMaTdhREqSDvr/and1k0Wm8EOKQ2JBDBjmQlR7S5cpgjz5Vm8ZexFgZINstnfdg0lj4jDQdh8K+j4bg+ITMVZPEZJzMhOkRIUzWe7YcBxLsjLbzwjA5GzRrI9qDzpYOVpPgaUVTa5KG12turZUrbtqSPay5nkRqS+Y61qOyfFLt3Dku2YtngQAAZOgAEVhzwDFpaCthrmbXTLPPqNNqvez2KfDWgly06spPhjcTOp61WlyiCjT8mt7Q4b90yoi22dPEqhY7xkIacmkz9lY3H4BjgLeH+epJI2gF8w+qKv8b2gS6mSO7hs3s5+WxgrVYuAe7ql5yP4cM/2y1TSaWcFnV4OxDD5Sl0aottk85YKJ/5TT2FuCKRfsy7bvcbyK3VHw7qKAeycagwfNnH/ALYpk0K0y7L1B3aPCBPKdvOqVuzbqP8APQH/AM3LHxipDs8+pGIXKOYv2/sz6D30bQKZo+HNF22ToA6Ek8vEKd7TYVG8SQ5ZmzEuYUkbgTEbaDfzrF8OsMtxZd3HiUgOYggiQ2uvuoGPlCyozMAdCzEnlsSADGU6jzqWo/FBSTVl/wAMxrq7B38EDKWIHSI13Obanr/HbSic6ExIAMzy+b5188vYt5DA69dfZ6g7DSKX7wtLMdTO3MZvhRinWTJ0bfjPF7N221tHIYlMpyndHVgfEIjSs7dxwzMQ/hMh2ggzJiFMwCdPKdaqrdtrhVEIknaZAjXoTvNO/wDh+8ASGQhgJh3BM7bp59azaTyycssfwWKa7PjItorgDbUiTlG+pI9SYqb4hQjADUTppJymBvvqyrMczSFibSNb7y2IBAOckyDyMdRHkNqlaxFpFIF0PccDM5zZFBOuo5yQduVLLLwwBsPxu83gZVLFmCtrKSBKyqt9GZE/CtycVwsWVS4gfJJyKlwjOx1ChidSdN6+fcEe0lzvHuF3JZRkQws6hjppIDbU78shjCsCpBlkfJMzGYCqblhNlI0llm8uYzAeK53TZlCos96uZRqsAaqBJ3FU+MRWdu4P7PTICuWGOUBoMMXBygGRu5OxqkucRKIQ2tzMDAV2BBjUQJiDXmIxZdBDlXRszMjMijwsQdQZWSpgjy50mo4tYYJOxTivFcrBRKoywCgDBkgkMvikHNmG8etJ4DFWnGa5owJg6xlPMxp1oi8HMZjcOaARKnLDZZIjnObYR4eVLNwR5AlfKM2p94FGEox8iU1kuTxS1JzPJMQYY9IOoOkfhUG4jZfwZ5AYEhQZ8J8x51WDh1wOIGwA0MR7zz0NM4Ts7dLM4e2kkkBi8kNruikVR6kfaGsduXUuKYYgdQDpEc432pZ8IMsrcZtBByzr1Gmp1FWOLW6qKltNNF3MCIMHLrr4p9aUx+Kul8sbAGBopJOg+P60qa17xQtsWu3wmQM8HKcwaFkmQDqffXlhlCeG8qkrAMqYhmMwTrzFeY9ASFuYcsW0zgySNSADPhI22oOI4K/hCMIVMpljIUMWgkCDoQPcaotWDCmyzwDvbRgroSYAbQKANTtuZ+wVA8bYIQTlKiC7D5o0OWNfPXqKTs8BusNMkdZaPu0/b4M6qqF0bcxBEDlpz6UjnpPyK0h7sxi3uyc0kKgg75s6NoimY198+VL4q67u8B1CsV9orMc4KyJmmMDw8WmzqwU6BiABAlQACGkjwz6j31cW7NpgD4p5khZJk/xdIHupHKPsZJVyWT8LtHU2U/oXr6daas4RFEBEA/k/KvS/lUs5G5imLjFpANoHosfYaYRupquF4DnPpUziOYX41jFlnH6MfhUWfroPX/41WDEMdJjyFeq2vU/rrWMPZ06/AD7ZFTS4OrfBfj7VV+aOYH11Nbp5kGsGh5nU7nUdVJ+w0HN/xCJ/gb4ezHI0sb2m60P5V1j3z6VjUWa3EgSSTz8D/wDT+FT79ev1N+VVDXxzP11H5T0E+/8ACtaBTLk4lNs31Hz8qi961uSp9RP2j0qjfHaewfjUFxZnYx6msYtcbbw1xSjgDYnKIYAzBkCRz+FUVzszgSIz3PUEz/VknlTYxXQfr9RQflYnUgR7ooYsNFff7I4BgAHuCNNAxnzMINaH/wCEsEPn3D/+q6fsA1qwfGjbQ9ND161FGUmcwHvI0M8tvOimBxRX3ezGFQFkR3YZfC1q4JEgMJMH2ZpLEW8gJXDhddB7PoZY6a67VdYhJU69D9fWhWmuL7LuPLMaz0+4rsV4wZfFWrkgphUIMCfBoOftN9lWOFwVtlHe2kUzrlUOpEE7Bp3jera5dfmEb+ZEJ+MT9dBe4h9qyp/lZ0+rNH1UOxJcNATXoXTg9kH9m6of4bbITtpMfqajkVAYfRY1Icc9tR+pppntHQpdWehtsPTUAx76E/D7DiO8gdGRh9aOR15VOWjP1+zNRAZiT4biFQcp3mdxpy0qAwmJeGRkIMGVDEkbgEDUU2nBUMibT6ggBzMgQCQwGvL0AouH4ddtrCWmC9EYn4BHP2VPY48p/wCgKMbyK4vBOyFArzkAJClCJZ9hOhiNz9tL4TAi0WytcOn/ANy4smfIbbR+dWfyi4up7xOXiDaxP018xUl4u8aXS3qEP2EVpVVW1+BtsX5Qi2DJzEW0bbLIWfPMem1erh8RKhlUJtpuvQBY100jyqwHEwYJ7tp5lDr9ZnnSGJvBi0mJYgRqFEb6CIIAESNG6wKR/Dv8AcEgFy8iEqTEbggDqAI91CNy1cBCkwIJKkDLpInoZHKmkvFAN7hhVDFmZtozZdVBzGdZiRrS2FxrNcCurqpIJ8ErEAZYIOsZtdPMcqKV8CuLC4fDBgDIUeHdmBHM6gnlRcJYcFwgVhKrIY/RB0kjz/Qqyt28OfCLg1J0ZbY6aaIv6NFscIQQyOANIyKQp06B46cuvWmWnKnSv8mUVeRBsNePzBsshXQbaxIaa57F0gzbblsQd5B6zy38qsr+EuR4cjeUlddTmnKxn30NMPiYiUGvNmf6yutBaM/X7NtiVJw1wE/s7sZgxENErEfN9fiTUbiP9B/6D1P8NXZwuIPz7cdCjN+IjWiJbxAEd5b/APTP/XTdnU9fsG1HNitNCY9y/ZQziQOXp8N66urpLEflR6fGZ9KIuI8vgT+Pvrq6gwo8W6TuCff6aVPOY1H2T9tdXUAklcdD/SenlXueevwj4n9bV1dWAcH/AFPWos+upPLT16fCurqwTu9A8/SOf6NCdhMEwPP666uomJW4Gob9CNP11FSLk8zt5H8OgNdXUrDE4+onz8v+310vcvHZo+o8uX1murqCMwIQHUj4ae+B769ZI2P6/Q+yurqLAkCCR4pmI59YFSW/XV1dGl/UlPk9a8DQWcV7XVUS2CeKhNe11YxAmpK5GxI9DFe11Y1h04heXa4/v1H10b/FXPtqj/zIpryurbUDcyDYpDvhsMY/4Kg/EGotdtHfC2PcsV7XVu3E1gH7qI+TW/8AmHTz8hQsln/8ZB6E+fn511dW7cfRjms2TvYTprJ0Ig7npR0xGQQngHQD+9dXUFFGJHFP9NvjFe96ebuffXV1Ex4T1k+pNe5V6f8AMa6urBP/2Q==\">"
   ]
  },
  {
   "cell_type": "markdown",
   "id": "4d814342",
   "metadata": {},
   "source": [
    "# Study of Existing Systems:\n",
    "In the past, the real estate industry relied on outdated methods to analyze price trends, such as simple regression analysis, which leads to inaccurate predictions.\n",
    "\n",
    "Current systems used by real estates are not accurate, which means an improper evaluation of properties that leads to underpricing or overpricing."
   ]
  },
  {
   "cell_type": "markdown",
   "id": "83342a96",
   "metadata": {},
   "source": [
    "# Main Objective:\n",
    "The main agenda of this project is:\n",
    "\n",
    "Perform extensive Exploratory Data Analysis(EDA) on the price prediction\n",
    "\n",
    "Our aim is to bridge the gap between the market offer of properties and the actual value they hold, ensuring accurate and up-to-date estimates of prices using machine learning algorithms that undergo rigorous testing and evaluation for user convenience and utility."
   ]
  },
  {
   "cell_type": "markdown",
   "id": "8a6ddb1f",
   "metadata": {},
   "source": [
    "# Importing necessary libraries"
   ]
  },
  {
   "cell_type": "code",
   "execution_count": 1,
   "id": "eff5c176",
   "metadata": {},
   "outputs": [],
   "source": [
    "import pandas as pd\n",
    "import numpy as np\n",
    "from sklearn.preprocessing import LabelEncoder\n",
    "from sklearn.preprocessing import StandardScaler\n",
    "from sklearn.decomposition import PCA\n",
    "from sklearn.model_selection import train_test_split\n",
    "from sklearn.ensemble import RandomForestRegressor\n",
    "from sklearn.metrics import accuracy_score,confusion_matrix\n",
    "import matplotlib.pyplot as plt\n",
    "from scipy import stats\n",
    "from sklearn.linear_model import LinearRegression\n",
    "from sklearn.tree import DecisionTreeRegressor"
   ]
  },
  {
   "cell_type": "markdown",
   "id": "c0220beb",
   "metadata": {},
   "source": [
    "# Importing the data and assinging it to the variable data"
   ]
  },
  {
   "cell_type": "code",
   "execution_count": 2,
   "id": "0bb43e7c",
   "metadata": {},
   "outputs": [],
   "source": [
    "df=pd.read_csv('C:/Users/Pradeep/Desktop/Pune_property_data.csv')"
   ]
  },
  {
   "cell_type": "markdown",
   "id": "fd236035",
   "metadata": {},
   "source": [
    "# Access the first five rows of the data"
   ]
  },
  {
   "cell_type": "code",
   "execution_count": 3,
   "id": "679923a2",
   "metadata": {
    "scrolled": true
   },
   "outputs": [
    {
     "data": {
      "text/html": [
       "<div>\n",
       "<style scoped>\n",
       "    .dataframe tbody tr th:only-of-type {\n",
       "        vertical-align: middle;\n",
       "    }\n",
       "\n",
       "    .dataframe tbody tr th {\n",
       "        vertical-align: top;\n",
       "    }\n",
       "\n",
       "    .dataframe thead th {\n",
       "        text-align: right;\n",
       "    }\n",
       "</style>\n",
       "<table border=\"1\" class=\"dataframe\">\n",
       "  <thead>\n",
       "    <tr style=\"text-align: right;\">\n",
       "      <th></th>\n",
       "      <th>Unnamed: 0</th>\n",
       "      <th>additionalrooms</th>\n",
       "      <th>age</th>\n",
       "      <th>amenitiesavailable</th>\n",
       "      <th>amenitiesnot</th>\n",
       "      <th>area</th>\n",
       "      <th>balconies</th>\n",
       "      <th>bathroom</th>\n",
       "      <th>bhk</th>\n",
       "      <th>carpetarea</th>\n",
       "      <th>...</th>\n",
       "      <th>opensides</th>\n",
       "      <th>overlooking</th>\n",
       "      <th>ownership</th>\n",
       "      <th>possesiondate</th>\n",
       "      <th>price</th>\n",
       "      <th>pricepersquare</th>\n",
       "      <th>projectname</th>\n",
       "      <th>roadfaceing</th>\n",
       "      <th>status</th>\n",
       "      <th>totalfloor</th>\n",
       "    </tr>\n",
       "  </thead>\n",
       "  <tbody>\n",
       "    <tr>\n",
       "      <th>0</th>\n",
       "      <td>0</td>\n",
       "      <td>NaN</td>\n",
       "      <td>2 - 3 years</td>\n",
       "      <td>Lift Available,Car Parking,Power Backup,Indoor...</td>\n",
       "      <td>24 X 7 Security,Children's play area,Club Hous...</td>\n",
       "      <td>1,611 sq ft</td>\n",
       "      <td>2</td>\n",
       "      <td>3</td>\n",
       "      <td>3 BHK Apartment</td>\n",
       "      <td>1209 sq ft</td>\n",
       "      <td>...</td>\n",
       "      <td>2</td>\n",
       "      <td>Road View</td>\n",
       "      <td>Co-Operative Society</td>\n",
       "      <td>NaN</td>\n",
       "      <td>27000000</td>\n",
       "      <td>₹ 16,759/ sq ft</td>\n",
       "      <td>Bhansali Prive Rio</td>\n",
       "      <td>40 feet</td>\n",
       "      <td>Ready to move</td>\n",
       "      <td>6</td>\n",
       "    </tr>\n",
       "    <tr>\n",
       "      <th>1</th>\n",
       "      <td>1</td>\n",
       "      <td>NaN</td>\n",
       "      <td>0 - 1 year</td>\n",
       "      <td>Lift Available,Car Parking,Power Backup,24 X 7...</td>\n",
       "      <td>Children's play area,Sports Facility,Landscape...</td>\n",
       "      <td>1,279 sq ft</td>\n",
       "      <td>NaN</td>\n",
       "      <td>2</td>\n",
       "      <td>2 BHK Apartment</td>\n",
       "      <td>NaN</td>\n",
       "      <td>...</td>\n",
       "      <td>NaN</td>\n",
       "      <td>NaN</td>\n",
       "      <td>Freehold</td>\n",
       "      <td>NaN</td>\n",
       "      <td>7610050</td>\n",
       "      <td>₹ 5,950/ sq ft</td>\n",
       "      <td>Goel Ganga Platino</td>\n",
       "      <td>NaN</td>\n",
       "      <td>Ready to move</td>\n",
       "      <td>NaN</td>\n",
       "    </tr>\n",
       "    <tr>\n",
       "      <th>2</th>\n",
       "      <td>2</td>\n",
       "      <td>NaN</td>\n",
       "      <td>0 - 1 year</td>\n",
       "      <td>Lift Available,Car Parking,Power Backup,24 X 7...</td>\n",
       "      <td>Sports Facility</td>\n",
       "      <td>670 sq ft</td>\n",
       "      <td>NaN</td>\n",
       "      <td>1</td>\n",
       "      <td>1 BHK Apartment</td>\n",
       "      <td>NaN</td>\n",
       "      <td>...</td>\n",
       "      <td>NaN</td>\n",
       "      <td>NaN</td>\n",
       "      <td>Freehold</td>\n",
       "      <td>NaN</td>\n",
       "      <td>4100000</td>\n",
       "      <td>₹ 6,119/ sq ft</td>\n",
       "      <td>Vilas Javdekar Yashwin</td>\n",
       "      <td>NaN</td>\n",
       "      <td>Ready to move</td>\n",
       "      <td>NaN</td>\n",
       "    </tr>\n",
       "    <tr>\n",
       "      <th>3</th>\n",
       "      <td>3</td>\n",
       "      <td>NaN</td>\n",
       "      <td>2 - 3 years</td>\n",
       "      <td>Lift Available,Car Parking,Power Backup,24 X 7...</td>\n",
       "      <td>Sports Facility,Landscaped Gardens</td>\n",
       "      <td>956 sq ft</td>\n",
       "      <td>NaN</td>\n",
       "      <td>2</td>\n",
       "      <td>2 BHK Apartment</td>\n",
       "      <td>615 sq ft</td>\n",
       "      <td>...</td>\n",
       "      <td>NaN</td>\n",
       "      <td>NaN</td>\n",
       "      <td>Freehold</td>\n",
       "      <td>NaN</td>\n",
       "      <td>5736000</td>\n",
       "      <td>₹ 6,000/ sq ft</td>\n",
       "      <td>Rohan Ishan</td>\n",
       "      <td>NaN</td>\n",
       "      <td>Ready to move</td>\n",
       "      <td>NaN</td>\n",
       "    </tr>\n",
       "    <tr>\n",
       "      <th>4</th>\n",
       "      <td>4</td>\n",
       "      <td>NaN</td>\n",
       "      <td>0 - 1 year</td>\n",
       "      <td>Lift Available,Car Parking,Power Backup,24 X 7...</td>\n",
       "      <td>Club House,Swimming Pool,Sports Facility,Joggi...</td>\n",
       "      <td>1,706 sq ft</td>\n",
       "      <td>1</td>\n",
       "      <td>3</td>\n",
       "      <td>3 BHK Apartment</td>\n",
       "      <td>1195 sq ft</td>\n",
       "      <td>...</td>\n",
       "      <td>2</td>\n",
       "      <td>Road View</td>\n",
       "      <td>Freehold</td>\n",
       "      <td>NaN</td>\n",
       "      <td>29002000</td>\n",
       "      <td>₹ 17,000/ sq ft</td>\n",
       "      <td>Swojas Aavishkar</td>\n",
       "      <td>60 feet</td>\n",
       "      <td>Ready to move</td>\n",
       "      <td>9</td>\n",
       "    </tr>\n",
       "  </tbody>\n",
       "</table>\n",
       "<p>5 rows × 24 columns</p>\n",
       "</div>"
      ],
      "text/plain": [
       "   Unnamed: 0 additionalrooms          age  \\\n",
       "0           0             NaN  2 - 3 years   \n",
       "1           1             NaN   0 - 1 year   \n",
       "2           2             NaN   0 - 1 year   \n",
       "3           3             NaN  2 - 3 years   \n",
       "4           4             NaN   0 - 1 year   \n",
       "\n",
       "                                  amenitiesavailable  \\\n",
       "0  Lift Available,Car Parking,Power Backup,Indoor...   \n",
       "1  Lift Available,Car Parking,Power Backup,24 X 7...   \n",
       "2  Lift Available,Car Parking,Power Backup,24 X 7...   \n",
       "3  Lift Available,Car Parking,Power Backup,24 X 7...   \n",
       "4  Lift Available,Car Parking,Power Backup,24 X 7...   \n",
       "\n",
       "                                        amenitiesnot         area balconies  \\\n",
       "0  24 X 7 Security,Children's play area,Club Hous...  1,611 sq ft         2   \n",
       "1  Children's play area,Sports Facility,Landscape...  1,279 sq ft       NaN   \n",
       "2                                    Sports Facility    670 sq ft       NaN   \n",
       "3                 Sports Facility,Landscaped Gardens    956 sq ft       NaN   \n",
       "4  Club House,Swimming Pool,Sports Facility,Joggi...  1,706 sq ft         1   \n",
       "\n",
       "  bathroom               bhk  carpetarea  ... opensides overlooking  \\\n",
       "0        3  3 BHK Apartment   1209 sq ft  ...         2   Road View   \n",
       "1        2  2 BHK Apartment          NaN  ...       NaN         NaN   \n",
       "2        1  1 BHK Apartment          NaN  ...       NaN         NaN   \n",
       "3        2  2 BHK Apartment    615 sq ft  ...       NaN         NaN   \n",
       "4        3  3 BHK Apartment   1195 sq ft  ...         2   Road View   \n",
       "\n",
       "              ownership possesiondate     price    pricepersquare  \\\n",
       "0  Co-Operative Society           NaN  27000000  ₹ 16,759/ sq ft    \n",
       "1              Freehold           NaN   7610050   ₹ 5,950/ sq ft    \n",
       "2              Freehold           NaN   4100000   ₹ 6,119/ sq ft    \n",
       "3              Freehold           NaN   5736000   ₹ 6,000/ sq ft    \n",
       "4              Freehold           NaN  29002000  ₹ 17,000/ sq ft    \n",
       "\n",
       "              projectname roadfaceing         status totalfloor  \n",
       "0      Bhansali Prive Rio     40 feet  Ready to move          6  \n",
       "1      Goel Ganga Platino         NaN  Ready to move        NaN  \n",
       "2  Vilas Javdekar Yashwin         NaN  Ready to move        NaN  \n",
       "3             Rohan Ishan         NaN  Ready to move        NaN  \n",
       "4        Swojas Aavishkar     60 feet  Ready to move          9  \n",
       "\n",
       "[5 rows x 24 columns]"
      ]
     },
     "execution_count": 3,
     "metadata": {},
     "output_type": "execute_result"
    }
   ],
   "source": [
    "df.head()"
   ]
  },
  {
   "cell_type": "markdown",
   "id": "292c6f0f",
   "metadata": {},
   "source": [
    "# Prints the information about the dataframe"
   ]
  },
  {
   "cell_type": "code",
   "execution_count": 4,
   "id": "1c3896e6",
   "metadata": {},
   "outputs": [
    {
     "name": "stdout",
     "output_type": "stream",
     "text": [
      "<class 'pandas.core.frame.DataFrame'>\n",
      "RangeIndex: 37539 entries, 0 to 37538\n",
      "Data columns (total 24 columns):\n",
      " #   Column              Non-Null Count  Dtype \n",
      "---  ------              --------------  ----- \n",
      " 0   Unnamed: 0          37539 non-null  int64 \n",
      " 1   additionalrooms     9321 non-null   object\n",
      " 2   age                 27637 non-null  object\n",
      " 3   amenitiesavailable  34445 non-null  object\n",
      " 4   amenitiesnot        34286 non-null  object\n",
      " 5   area                37518 non-null  object\n",
      " 6   balconies           21911 non-null  object\n",
      " 7   bathroom            34667 non-null  object\n",
      " 8   bhk                 37538 non-null  object\n",
      " 9   carpetarea          8622 non-null   object\n",
      " 10  facing              30919 non-null  object\n",
      " 11  floor               31919 non-null  object\n",
      " 12  locality            37538 non-null  object\n",
      " 13  neworold            37538 non-null  object\n",
      " 14  opensides           11605 non-null  object\n",
      " 15  overlooking         17140 non-null  object\n",
      " 16  ownership           28156 non-null  object\n",
      " 17  possesiondate       4736 non-null   object\n",
      " 18  price               37538 non-null  object\n",
      " 19  pricepersquare      37538 non-null  object\n",
      " 20  projectname         24129 non-null  object\n",
      " 21  roadfaceing         6875 non-null   object\n",
      " 22  status              36078 non-null  object\n",
      " 23  totalfloor          24114 non-null  object\n",
      "dtypes: int64(1), object(23)\n",
      "memory usage: 6.9+ MB\n"
     ]
    }
   ],
   "source": [
    "df.info()"
   ]
  },
  {
   "cell_type": "code",
   "execution_count": 5,
   "id": "537fa4bc",
   "metadata": {},
   "outputs": [
    {
     "data": {
      "text/plain": [
       "Unnamed: 0                0\n",
       "additionalrooms       28218\n",
       "age                    9902\n",
       "amenitiesavailable     3094\n",
       "amenitiesnot           3253\n",
       "area                     21\n",
       "balconies             15628\n",
       "bathroom               2872\n",
       "bhk                       1\n",
       "carpetarea            28917\n",
       "facing                 6620\n",
       "floor                  5620\n",
       "locality                  1\n",
       "neworold                  1\n",
       "opensides             25934\n",
       "overlooking           20399\n",
       "ownership              9383\n",
       "possesiondate         32803\n",
       "price                     1\n",
       "pricepersquare            1\n",
       "projectname           13410\n",
       "roadfaceing           30664\n",
       "status                 1461\n",
       "totalfloor            13425\n",
       "dtype: int64"
      ]
     },
     "execution_count": 5,
     "metadata": {},
     "output_type": "execute_result"
    }
   ],
   "source": [
    "df.isnull().sum()"
   ]
  },
  {
   "cell_type": "code",
   "execution_count": 6,
   "id": "261abd99",
   "metadata": {},
   "outputs": [],
   "source": [
    "df=df.drop_duplicates()"
   ]
  },
  {
   "cell_type": "markdown",
   "id": "2ec1b1b7",
   "metadata": {},
   "source": [
    "# Filling nan and Typecasting"
   ]
  },
  {
   "cell_type": "code",
   "execution_count": 7,
   "id": "5c879398",
   "metadata": {},
   "outputs": [
    {
     "data": {
      "text/plain": [
       "1,000 sq ft    700\n",
       "1,100 sq ft    670\n",
       "1,500 sq ft    600\n",
       "1,050 sq ft    515\n",
       "1,600 sq ft    480\n",
       "              ... \n",
       "4,120 sq ft      1\n",
       "5,915 sq ft      1\n",
       "1,794 sq ft      1\n",
       "3,796 sq ft      1\n",
       "362 sq ft        1\n",
       "Name: area, Length: 2380, dtype: int64"
      ]
     },
     "execution_count": 7,
     "metadata": {},
     "output_type": "execute_result"
    }
   ],
   "source": [
    "df[\"area\"].value_counts()"
   ]
  },
  {
   "cell_type": "code",
   "execution_count": 8,
   "id": "b0265ce7",
   "metadata": {},
   "outputs": [
    {
     "data": {
      "text/plain": [
       "array(['6', nan, '9', '10', '15', '27', '5', '12', '21', '3', '4', '13',\n",
       "       '23', '24', '16', '31', '14', '19', '22', '18', '7', '2', '11',\n",
       "       '20', '1', '8', '25', '28', '34', '30', '17', 'totalfloor', '29',\n",
       "       '26', '35', '32'], dtype=object)"
      ]
     },
     "execution_count": 8,
     "metadata": {},
     "output_type": "execute_result"
    }
   ],
   "source": [
    "df['totalfloor'].unique()"
   ]
  },
  {
   "cell_type": "code",
   "execution_count": 9,
   "id": "782f4f32",
   "metadata": {},
   "outputs": [
    {
     "data": {
      "text/plain": [
       "0    2\n",
       "Name: bathroom, dtype: object"
      ]
     },
     "execution_count": 9,
     "metadata": {},
     "output_type": "execute_result"
    }
   ],
   "source": [
    "m=df[\"bathroom\"].mode()\n",
    "m"
   ]
  },
  {
   "cell_type": "markdown",
   "id": "c60690d1",
   "metadata": {},
   "source": [
    "# Delete the Unnnecessary Columns"
   ]
  },
  {
   "cell_type": "code",
   "execution_count": 10,
   "id": "e2922d8e",
   "metadata": {},
   "outputs": [],
   "source": [
    "df.drop(['additionalrooms','age','amenitiesavailable','amenitiesnot','carpetarea','opensides','overlooking','possesiondate','pricepersquare','projectname','roadfaceing','status'],axis=1,inplace=True)"
   ]
  },
  {
   "cell_type": "markdown",
   "id": "6fd5babd",
   "metadata": {},
   "source": [
    "# Removing string data type to convert into float data type"
   ]
  },
  {
   "cell_type": "code",
   "execution_count": 11,
   "id": "1ef34615",
   "metadata": {},
   "outputs": [],
   "source": [
    "df['area']=df['area'].str.replace(',','').str.replace('sq ft','').str.replace(' ','')\n",
    "df['area']=df['area'].str.extract(\"([\\d.]+)\").astype(float)\n"
   ]
  },
  {
   "cell_type": "code",
   "execution_count": 12,
   "id": "a77e30da",
   "metadata": {},
   "outputs": [],
   "source": [
    "df['balconies']=df['balconies'].str.replace(',','').str.replace('balconies','2').str.replace(' ','')\n",
    "df['balconies']=df['balconies'].str.extract(\"([\\d.]+)\").astype(float)"
   ]
  },
  {
   "cell_type": "code",
   "execution_count": 13,
   "id": "229aa714",
   "metadata": {},
   "outputs": [],
   "source": [
    "df['bathroom']=df['bathroom'].str.replace(',','').str.replace('bathroom','2').str.replace(' ','')\n",
    "df['bathroom']=df['bathroom'].str.extract(\"([\\d.]+)\").astype(float)"
   ]
  },
  {
   "cell_type": "code",
   "execution_count": 14,
   "id": "c457b2ae",
   "metadata": {},
   "outputs": [],
   "source": [
    "df['bathroom'].fillna(2.0,inplace=True)"
   ]
  },
  {
   "cell_type": "code",
   "execution_count": 15,
   "id": "6de9beba",
   "metadata": {},
   "outputs": [],
   "source": [
    "df['bhk'].fillna('2 bhk',inplace=True)"
   ]
  },
  {
   "cell_type": "code",
   "execution_count": 16,
   "id": "3c001101",
   "metadata": {},
   "outputs": [],
   "source": [
    "df['facing'].fillna('East',inplace=True)"
   ]
  },
  {
   "cell_type": "code",
   "execution_count": 17,
   "id": "0ef5f397",
   "metadata": {},
   "outputs": [],
   "source": [
    "df['floor']=df['floor'].str.replace(',','').str.replace('floor','2').str.replace(' ','').str.replace('Gr','')\n",
    "df['floor']=df['floor'].str.extract(\"([\\d.]+)\").astype(float)"
   ]
  },
  {
   "cell_type": "code",
   "execution_count": 18,
   "id": "def0239a",
   "metadata": {},
   "outputs": [],
   "source": [
    "df['neworold'].fillna('New',inplace=True)"
   ]
  },
  {
   "cell_type": "code",
   "execution_count": 19,
   "id": "6fe106ae",
   "metadata": {},
   "outputs": [],
   "source": [
    "df['ownership'].fillna('Freehold',inplace=True)"
   ]
  },
  {
   "cell_type": "code",
   "execution_count": 20,
   "id": "5f8a761c",
   "metadata": {},
   "outputs": [],
   "source": [
    "df['price']=df['price'].str.replace(',','')\n",
    "df['price']=df['price'].str.extract(\"([\\d.]+)\").astype(float)"
   ]
  },
  {
   "cell_type": "markdown",
   "id": "546a39b1",
   "metadata": {},
   "source": [
    "# Finding the mean and filling with these values"
   ]
  },
  {
   "cell_type": "code",
   "execution_count": 21,
   "id": "68b48814",
   "metadata": {},
   "outputs": [],
   "source": [
    "mn=df['price'].mean()\n",
    "df['price'].fillna(mn,inplace=True)"
   ]
  },
  {
   "cell_type": "code",
   "execution_count": 22,
   "id": "4120b3ab",
   "metadata": {},
   "outputs": [],
   "source": [
    "df['totalfloor']=df['totalfloor'].str.replace(',','').str.replace('totalfloor','12').str.replace(' ','')\n",
    "df['totalfloor']=df['totalfloor'].str.extract(\"([\\d.]+)\").astype(float)"
   ]
  },
  {
   "cell_type": "markdown",
   "id": "b7672874",
   "metadata": {},
   "source": [
    "# Encoding"
   ]
  },
  {
   "cell_type": "code",
   "execution_count": 23,
   "id": "f621c5ed",
   "metadata": {},
   "outputs": [],
   "source": [
    "columns_to_encode=[\"bhk\",\"facing\",\"locality\",\"neworold\",\"ownership\"]\n",
    "coder=LabelEncoder()\n",
    "for column in columns_to_encode:\n",
    "    df[column]=coder.fit_transform(df[column])"
   ]
  },
  {
   "cell_type": "code",
   "execution_count": 24,
   "id": "0ed76b89",
   "metadata": {},
   "outputs": [
    {
     "data": {
      "text/html": [
       "<div>\n",
       "<style scoped>\n",
       "    .dataframe tbody tr th:only-of-type {\n",
       "        vertical-align: middle;\n",
       "    }\n",
       "\n",
       "    .dataframe tbody tr th {\n",
       "        vertical-align: top;\n",
       "    }\n",
       "\n",
       "    .dataframe thead th {\n",
       "        text-align: right;\n",
       "    }\n",
       "</style>\n",
       "<table border=\"1\" class=\"dataframe\">\n",
       "  <thead>\n",
       "    <tr style=\"text-align: right;\">\n",
       "      <th></th>\n",
       "      <th>Unnamed: 0</th>\n",
       "      <th>area</th>\n",
       "      <th>balconies</th>\n",
       "      <th>bathroom</th>\n",
       "      <th>bhk</th>\n",
       "      <th>facing</th>\n",
       "      <th>floor</th>\n",
       "      <th>locality</th>\n",
       "      <th>neworold</th>\n",
       "      <th>ownership</th>\n",
       "      <th>price</th>\n",
       "      <th>totalfloor</th>\n",
       "    </tr>\n",
       "  </thead>\n",
       "  <tbody>\n",
       "    <tr>\n",
       "      <th>count</th>\n",
       "      <td>37539.000000</td>\n",
       "      <td>37496.00000</td>\n",
       "      <td>21911.000000</td>\n",
       "      <td>37539.000000</td>\n",
       "      <td>37539.000000</td>\n",
       "      <td>37539.000000</td>\n",
       "      <td>29211.000000</td>\n",
       "      <td>37539.000000</td>\n",
       "      <td>37539.000000</td>\n",
       "      <td>37539.000000</td>\n",
       "      <td>3.753900e+04</td>\n",
       "      <td>24114.000000</td>\n",
       "    </tr>\n",
       "    <tr>\n",
       "      <th>mean</th>\n",
       "      <td>18769.000000</td>\n",
       "      <td>1870.05926</td>\n",
       "      <td>1.720506</td>\n",
       "      <td>2.490077</td>\n",
       "      <td>12.760969</td>\n",
       "      <td>0.978236</td>\n",
       "      <td>5.043032</td>\n",
       "      <td>253.817976</td>\n",
       "      <td>0.690056</td>\n",
       "      <td>0.937372</td>\n",
       "      <td>1.474525e+07</td>\n",
       "      <td>10.143941</td>\n",
       "    </tr>\n",
       "    <tr>\n",
       "      <th>std</th>\n",
       "      <td>10836.720214</td>\n",
       "      <td>2580.41434</td>\n",
       "      <td>0.744135</td>\n",
       "      <td>1.025970</td>\n",
       "      <td>6.829075</td>\n",
       "      <td>2.121133</td>\n",
       "      <td>3.226065</td>\n",
       "      <td>150.647824</td>\n",
       "      <td>0.463742</td>\n",
       "      <td>0.280797</td>\n",
       "      <td>1.709897e+07</td>\n",
       "      <td>5.057408</td>\n",
       "    </tr>\n",
       "    <tr>\n",
       "      <th>min</th>\n",
       "      <td>0.000000</td>\n",
       "      <td>150.00000</td>\n",
       "      <td>1.000000</td>\n",
       "      <td>1.000000</td>\n",
       "      <td>0.000000</td>\n",
       "      <td>0.000000</td>\n",
       "      <td>1.000000</td>\n",
       "      <td>0.000000</td>\n",
       "      <td>0.000000</td>\n",
       "      <td>0.000000</td>\n",
       "      <td>1.000000e+05</td>\n",
       "      <td>1.000000</td>\n",
       "    </tr>\n",
       "    <tr>\n",
       "      <th>25%</th>\n",
       "      <td>9384.500000</td>\n",
       "      <td>982.00000</td>\n",
       "      <td>1.000000</td>\n",
       "      <td>2.000000</td>\n",
       "      <td>10.000000</td>\n",
       "      <td>0.000000</td>\n",
       "      <td>3.000000</td>\n",
       "      <td>141.000000</td>\n",
       "      <td>0.000000</td>\n",
       "      <td>1.000000</td>\n",
       "      <td>5.600000e+06</td>\n",
       "      <td>7.000000</td>\n",
       "    </tr>\n",
       "    <tr>\n",
       "      <th>50%</th>\n",
       "      <td>18769.000000</td>\n",
       "      <td>1300.00000</td>\n",
       "      <td>2.000000</td>\n",
       "      <td>2.000000</td>\n",
       "      <td>10.000000</td>\n",
       "      <td>0.000000</td>\n",
       "      <td>4.000000</td>\n",
       "      <td>195.000000</td>\n",
       "      <td>1.000000</td>\n",
       "      <td>1.000000</td>\n",
       "      <td>8.600000e+06</td>\n",
       "      <td>11.000000</td>\n",
       "    </tr>\n",
       "    <tr>\n",
       "      <th>75%</th>\n",
       "      <td>28153.500000</td>\n",
       "      <td>2000.00000</td>\n",
       "      <td>2.000000</td>\n",
       "      <td>3.000000</td>\n",
       "      <td>16.000000</td>\n",
       "      <td>1.000000</td>\n",
       "      <td>7.000000</td>\n",
       "      <td>447.000000</td>\n",
       "      <td>1.000000</td>\n",
       "      <td>1.000000</td>\n",
       "      <td>1.600000e+07</td>\n",
       "      <td>12.000000</td>\n",
       "    </tr>\n",
       "    <tr>\n",
       "      <th>max</th>\n",
       "      <td>37538.000000</td>\n",
       "      <td>60000.00000</td>\n",
       "      <td>8.000000</td>\n",
       "      <td>9.000000</td>\n",
       "      <td>40.000000</td>\n",
       "      <td>8.000000</td>\n",
       "      <td>34.000000</td>\n",
       "      <td>503.000000</td>\n",
       "      <td>2.000000</td>\n",
       "      <td>4.000000</td>\n",
       "      <td>2.690000e+08</td>\n",
       "      <td>35.000000</td>\n",
       "    </tr>\n",
       "  </tbody>\n",
       "</table>\n",
       "</div>"
      ],
      "text/plain": [
       "         Unnamed: 0         area     balconies      bathroom           bhk  \\\n",
       "count  37539.000000  37496.00000  21911.000000  37539.000000  37539.000000   \n",
       "mean   18769.000000   1870.05926      1.720506      2.490077     12.760969   \n",
       "std    10836.720214   2580.41434      0.744135      1.025970      6.829075   \n",
       "min        0.000000    150.00000      1.000000      1.000000      0.000000   \n",
       "25%     9384.500000    982.00000      1.000000      2.000000     10.000000   \n",
       "50%    18769.000000   1300.00000      2.000000      2.000000     10.000000   \n",
       "75%    28153.500000   2000.00000      2.000000      3.000000     16.000000   \n",
       "max    37538.000000  60000.00000      8.000000      9.000000     40.000000   \n",
       "\n",
       "             facing         floor      locality      neworold     ownership  \\\n",
       "count  37539.000000  29211.000000  37539.000000  37539.000000  37539.000000   \n",
       "mean       0.978236      5.043032    253.817976      0.690056      0.937372   \n",
       "std        2.121133      3.226065    150.647824      0.463742      0.280797   \n",
       "min        0.000000      1.000000      0.000000      0.000000      0.000000   \n",
       "25%        0.000000      3.000000    141.000000      0.000000      1.000000   \n",
       "50%        0.000000      4.000000    195.000000      1.000000      1.000000   \n",
       "75%        1.000000      7.000000    447.000000      1.000000      1.000000   \n",
       "max        8.000000     34.000000    503.000000      2.000000      4.000000   \n",
       "\n",
       "              price    totalfloor  \n",
       "count  3.753900e+04  24114.000000  \n",
       "mean   1.474525e+07     10.143941  \n",
       "std    1.709897e+07      5.057408  \n",
       "min    1.000000e+05      1.000000  \n",
       "25%    5.600000e+06      7.000000  \n",
       "50%    8.600000e+06     11.000000  \n",
       "75%    1.600000e+07     12.000000  \n",
       "max    2.690000e+08     35.000000  "
      ]
     },
     "execution_count": 24,
     "metadata": {},
     "output_type": "execute_result"
    }
   ],
   "source": [
    "df.describe()"
   ]
  },
  {
   "cell_type": "code",
   "execution_count": 25,
   "id": "e1505347",
   "metadata": {},
   "outputs": [],
   "source": [
    "mn1=df['balconies'].mean()\n",
    "df['balconies'].fillna(mn1,inplace=True)"
   ]
  },
  {
   "cell_type": "code",
   "execution_count": 26,
   "id": "fe3a5c10",
   "metadata": {},
   "outputs": [
    {
     "data": {
      "text/plain": [
       "0    1000.0\n",
       "Name: area, dtype: float64"
      ]
     },
     "execution_count": 26,
     "metadata": {},
     "output_type": "execute_result"
    }
   ],
   "source": [
    "df['area'].mode()"
   ]
  },
  {
   "cell_type": "code",
   "execution_count": 27,
   "id": "90fffaa4",
   "metadata": {},
   "outputs": [],
   "source": [
    "df['area'].fillna(1000,inplace=True)"
   ]
  },
  {
   "cell_type": "code",
   "execution_count": 28,
   "id": "6d0f43e0",
   "metadata": {},
   "outputs": [
    {
     "data": {
      "text/html": [
       "<div>\n",
       "<style scoped>\n",
       "    .dataframe tbody tr th:only-of-type {\n",
       "        vertical-align: middle;\n",
       "    }\n",
       "\n",
       "    .dataframe tbody tr th {\n",
       "        vertical-align: top;\n",
       "    }\n",
       "\n",
       "    .dataframe thead th {\n",
       "        text-align: right;\n",
       "    }\n",
       "</style>\n",
       "<table border=\"1\" class=\"dataframe\">\n",
       "  <thead>\n",
       "    <tr style=\"text-align: right;\">\n",
       "      <th></th>\n",
       "      <th>Unnamed: 0</th>\n",
       "      <th>area</th>\n",
       "      <th>balconies</th>\n",
       "      <th>bathroom</th>\n",
       "      <th>bhk</th>\n",
       "      <th>facing</th>\n",
       "      <th>floor</th>\n",
       "      <th>locality</th>\n",
       "      <th>neworold</th>\n",
       "      <th>ownership</th>\n",
       "      <th>price</th>\n",
       "      <th>totalfloor</th>\n",
       "    </tr>\n",
       "  </thead>\n",
       "  <tbody>\n",
       "    <tr>\n",
       "      <th>0</th>\n",
       "      <td>-1.732005</td>\n",
       "      <td>-0.100060</td>\n",
       "      <td>4.916334e-01</td>\n",
       "      <td>0.497022</td>\n",
       "      <td>0.474306</td>\n",
       "      <td>2.838975</td>\n",
       "      <td>NaN</td>\n",
       "      <td>-1.067524</td>\n",
       "      <td>-1.488036</td>\n",
       "      <td>-3.338296</td>\n",
       "      <td>0.716705</td>\n",
       "      <td>NaN</td>\n",
       "    </tr>\n",
       "    <tr>\n",
       "      <th>1</th>\n",
       "      <td>-1.731912</td>\n",
       "      <td>-0.228789</td>\n",
       "      <td>3.905788e-16</td>\n",
       "      <td>-0.477678</td>\n",
       "      <td>-0.404302</td>\n",
       "      <td>0.481713</td>\n",
       "      <td>NaN</td>\n",
       "      <td>-0.443544</td>\n",
       "      <td>-1.488036</td>\n",
       "      <td>0.223040</td>\n",
       "      <td>-0.417294</td>\n",
       "      <td>NaN</td>\n",
       "    </tr>\n",
       "    <tr>\n",
       "      <th>2</th>\n",
       "      <td>-1.731820</td>\n",
       "      <td>-0.464921</td>\n",
       "      <td>3.905788e-16</td>\n",
       "      <td>-1.452378</td>\n",
       "      <td>-1.575779</td>\n",
       "      <td>0.481713</td>\n",
       "      <td>NaN</td>\n",
       "      <td>1.083216</td>\n",
       "      <td>-1.488036</td>\n",
       "      <td>0.223040</td>\n",
       "      <td>-0.622575</td>\n",
       "      <td>NaN</td>\n",
       "    </tr>\n",
       "    <tr>\n",
       "      <th>3</th>\n",
       "      <td>-1.731728</td>\n",
       "      <td>-0.354028</td>\n",
       "      <td>3.905788e-16</td>\n",
       "      <td>-0.477678</td>\n",
       "      <td>-0.404302</td>\n",
       "      <td>0.481713</td>\n",
       "      <td>NaN</td>\n",
       "      <td>-1.419342</td>\n",
       "      <td>-1.488036</td>\n",
       "      <td>0.223040</td>\n",
       "      <td>-0.526895</td>\n",
       "      <td>NaN</td>\n",
       "    </tr>\n",
       "    <tr>\n",
       "      <th>4</th>\n",
       "      <td>-1.731636</td>\n",
       "      <td>-0.063225</td>\n",
       "      <td>-1.267377e+00</td>\n",
       "      <td>0.497022</td>\n",
       "      <td>0.474306</td>\n",
       "      <td>2.838975</td>\n",
       "      <td>NaN</td>\n",
       "      <td>-1.067524</td>\n",
       "      <td>-1.488036</td>\n",
       "      <td>0.223040</td>\n",
       "      <td>0.833789</td>\n",
       "      <td>NaN</td>\n",
       "    </tr>\n",
       "    <tr>\n",
       "      <th>...</th>\n",
       "      <td>...</td>\n",
       "      <td>...</td>\n",
       "      <td>...</td>\n",
       "      <td>...</td>\n",
       "      <td>...</td>\n",
       "      <td>...</td>\n",
       "      <td>...</td>\n",
       "      <td>...</td>\n",
       "      <td>...</td>\n",
       "      <td>...</td>\n",
       "      <td>...</td>\n",
       "      <td>...</td>\n",
       "    </tr>\n",
       "    <tr>\n",
       "      <th>37534</th>\n",
       "      <td>1.731636</td>\n",
       "      <td>-0.304398</td>\n",
       "      <td>-1.267377e+00</td>\n",
       "      <td>-0.477678</td>\n",
       "      <td>-0.404302</td>\n",
       "      <td>-0.461192</td>\n",
       "      <td>NaN</td>\n",
       "      <td>-1.465809</td>\n",
       "      <td>-1.488036</td>\n",
       "      <td>0.223040</td>\n",
       "      <td>-0.373258</td>\n",
       "      <td>NaN</td>\n",
       "    </tr>\n",
       "    <tr>\n",
       "      <th>37535</th>\n",
       "      <td>1.731728</td>\n",
       "      <td>-0.355191</td>\n",
       "      <td>-1.267377e+00</td>\n",
       "      <td>-0.477678</td>\n",
       "      <td>-0.404302</td>\n",
       "      <td>-0.461192</td>\n",
       "      <td>NaN</td>\n",
       "      <td>1.401845</td>\n",
       "      <td>-1.488036</td>\n",
       "      <td>0.223040</td>\n",
       "      <td>-0.491688</td>\n",
       "      <td>NaN</td>\n",
       "    </tr>\n",
       "    <tr>\n",
       "      <th>37536</th>\n",
       "      <td>1.731820</td>\n",
       "      <td>-0.252441</td>\n",
       "      <td>-1.267377e+00</td>\n",
       "      <td>-0.477678</td>\n",
       "      <td>-0.404302</td>\n",
       "      <td>-0.461192</td>\n",
       "      <td>NaN</td>\n",
       "      <td>-0.748896</td>\n",
       "      <td>-1.488036</td>\n",
       "      <td>0.223040</td>\n",
       "      <td>-0.388640</td>\n",
       "      <td>NaN</td>\n",
       "    </tr>\n",
       "    <tr>\n",
       "      <th>37537</th>\n",
       "      <td>1.731912</td>\n",
       "      <td>-0.308275</td>\n",
       "      <td>-1.267377e+00</td>\n",
       "      <td>-0.477678</td>\n",
       "      <td>-0.404302</td>\n",
       "      <td>-0.461192</td>\n",
       "      <td>NaN</td>\n",
       "      <td>-1.419342</td>\n",
       "      <td>-1.488036</td>\n",
       "      <td>0.223040</td>\n",
       "      <td>-0.407354</td>\n",
       "      <td>NaN</td>\n",
       "    </tr>\n",
       "    <tr>\n",
       "      <th>37538</th>\n",
       "      <td>1.732005</td>\n",
       "      <td>1.043763</td>\n",
       "      <td>4.916334e-01</td>\n",
       "      <td>1.471722</td>\n",
       "      <td>1.352914</td>\n",
       "      <td>2.838975</td>\n",
       "      <td>NaN</td>\n",
       "      <td>-1.565380</td>\n",
       "      <td>-1.488036</td>\n",
       "      <td>0.223040</td>\n",
       "      <td>1.933168</td>\n",
       "      <td>NaN</td>\n",
       "    </tr>\n",
       "  </tbody>\n",
       "</table>\n",
       "<p>37539 rows × 12 columns</p>\n",
       "</div>"
      ],
      "text/plain": [
       "       Unnamed: 0      area     balconies  bathroom       bhk    facing  \\\n",
       "0       -1.732005 -0.100060  4.916334e-01  0.497022  0.474306  2.838975   \n",
       "1       -1.731912 -0.228789  3.905788e-16 -0.477678 -0.404302  0.481713   \n",
       "2       -1.731820 -0.464921  3.905788e-16 -1.452378 -1.575779  0.481713   \n",
       "3       -1.731728 -0.354028  3.905788e-16 -0.477678 -0.404302  0.481713   \n",
       "4       -1.731636 -0.063225 -1.267377e+00  0.497022  0.474306  2.838975   \n",
       "...           ...       ...           ...       ...       ...       ...   \n",
       "37534    1.731636 -0.304398 -1.267377e+00 -0.477678 -0.404302 -0.461192   \n",
       "37535    1.731728 -0.355191 -1.267377e+00 -0.477678 -0.404302 -0.461192   \n",
       "37536    1.731820 -0.252441 -1.267377e+00 -0.477678 -0.404302 -0.461192   \n",
       "37537    1.731912 -0.308275 -1.267377e+00 -0.477678 -0.404302 -0.461192   \n",
       "37538    1.732005  1.043763  4.916334e-01  1.471722  1.352914  2.838975   \n",
       "\n",
       "       floor  locality  neworold  ownership     price  totalfloor  \n",
       "0        NaN -1.067524 -1.488036  -3.338296  0.716705         NaN  \n",
       "1        NaN -0.443544 -1.488036   0.223040 -0.417294         NaN  \n",
       "2        NaN  1.083216 -1.488036   0.223040 -0.622575         NaN  \n",
       "3        NaN -1.419342 -1.488036   0.223040 -0.526895         NaN  \n",
       "4        NaN -1.067524 -1.488036   0.223040  0.833789         NaN  \n",
       "...      ...       ...       ...        ...       ...         ...  \n",
       "37534    NaN -1.465809 -1.488036   0.223040 -0.373258         NaN  \n",
       "37535    NaN  1.401845 -1.488036   0.223040 -0.491688         NaN  \n",
       "37536    NaN -0.748896 -1.488036   0.223040 -0.388640         NaN  \n",
       "37537    NaN -1.419342 -1.488036   0.223040 -0.407354         NaN  \n",
       "37538    NaN -1.565380 -1.488036   0.223040  1.933168         NaN  \n",
       "\n",
       "[37539 rows x 12 columns]"
      ]
     },
     "execution_count": 28,
     "metadata": {},
     "output_type": "execute_result"
    }
   ],
   "source": [
    "z_scre=stats.zscore(df)\n",
    "z_scre"
   ]
  },
  {
   "cell_type": "code",
   "execution_count": 29,
   "id": "a36c88cf",
   "metadata": {},
   "outputs": [
    {
     "data": {
      "text/html": [
       "<div>\n",
       "<style scoped>\n",
       "    .dataframe tbody tr th:only-of-type {\n",
       "        vertical-align: middle;\n",
       "    }\n",
       "\n",
       "    .dataframe tbody tr th {\n",
       "        vertical-align: top;\n",
       "    }\n",
       "\n",
       "    .dataframe thead th {\n",
       "        text-align: right;\n",
       "    }\n",
       "</style>\n",
       "<table border=\"1\" class=\"dataframe\">\n",
       "  <thead>\n",
       "    <tr style=\"text-align: right;\">\n",
       "      <th></th>\n",
       "      <th>Unnamed: 0</th>\n",
       "      <th>area</th>\n",
       "      <th>balconies</th>\n",
       "      <th>bathroom</th>\n",
       "      <th>bhk</th>\n",
       "      <th>facing</th>\n",
       "      <th>floor</th>\n",
       "      <th>locality</th>\n",
       "      <th>neworold</th>\n",
       "      <th>ownership</th>\n",
       "      <th>price</th>\n",
       "      <th>totalfloor</th>\n",
       "    </tr>\n",
       "  </thead>\n",
       "  <tbody>\n",
       "  </tbody>\n",
       "</table>\n",
       "</div>"
      ],
      "text/plain": [
       "Empty DataFrame\n",
       "Columns: [Unnamed: 0, area, balconies, bathroom, bhk, facing, floor, locality, neworold, ownership, price, totalfloor]\n",
       "Index: []"
      ]
     },
     "execution_count": 29,
     "metadata": {},
     "output_type": "execute_result"
    }
   ],
   "source": [
    "threshold=2\n",
    "df[(z_scre<threshold).all(axis=1)]"
   ]
  },
  {
   "cell_type": "code",
   "execution_count": 30,
   "id": "2824fa0d",
   "metadata": {},
   "outputs": [
    {
     "data": {
      "text/plain": [
       "10.143941278925105"
      ]
     },
     "execution_count": 30,
     "metadata": {},
     "output_type": "execute_result"
    }
   ],
   "source": [
    "df['totalfloor'].mean()"
   ]
  },
  {
   "cell_type": "code",
   "execution_count": 31,
   "id": "5648ae1f",
   "metadata": {},
   "outputs": [],
   "source": [
    "df['floor'].fillna(4,inplace=True)"
   ]
  },
  {
   "cell_type": "code",
   "execution_count": 32,
   "id": "d23366e7",
   "metadata": {},
   "outputs": [],
   "source": [
    "df['totalfloor'].fillna(11,inplace=True)"
   ]
  },
  {
   "cell_type": "markdown",
   "id": "df17f746",
   "metadata": {},
   "source": [
    "# Random Forest"
   ]
  },
  {
   "cell_type": "markdown",
   "id": "60127326",
   "metadata": {},
   "source": [
    "# Setting the target variables and independent variables"
   ]
  },
  {
   "cell_type": "code",
   "execution_count": 33,
   "id": "f52a7ae8",
   "metadata": {},
   "outputs": [],
   "source": [
    "x=df[['area','balconies','bathroom','bhk','facing','floor','locality','neworold','ownership','totalfloor']]\n",
    "y=df['price']"
   ]
  },
  {
   "cell_type": "code",
   "execution_count": null,
   "id": "5f583274",
   "metadata": {},
   "outputs": [],
   "source": []
  },
  {
   "cell_type": "code",
   "execution_count": 34,
   "id": "87e0b5c7",
   "metadata": {},
   "outputs": [],
   "source": [
    "x_train,x_test,y_train,y_test=train_test_split(x,y,test_size=0.2,random_state=42)"
   ]
  },
  {
   "cell_type": "code",
   "execution_count": null,
   "id": "9e59a10a",
   "metadata": {},
   "outputs": [],
   "source": []
  },
  {
   "cell_type": "code",
   "execution_count": 35,
   "id": "be7a5064",
   "metadata": {},
   "outputs": [],
   "source": [
    "model=RandomForestRegressor(n_estimators=100)"
   ]
  },
  {
   "cell_type": "code",
   "execution_count": 36,
   "id": "c3784a95",
   "metadata": {},
   "outputs": [
    {
     "data": {
      "text/html": [
       "<style>#sk-container-id-1 {color: black;background-color: white;}#sk-container-id-1 pre{padding: 0;}#sk-container-id-1 div.sk-toggleable {background-color: white;}#sk-container-id-1 label.sk-toggleable__label {cursor: pointer;display: block;width: 100%;margin-bottom: 0;padding: 0.3em;box-sizing: border-box;text-align: center;}#sk-container-id-1 label.sk-toggleable__label-arrow:before {content: \"▸\";float: left;margin-right: 0.25em;color: #696969;}#sk-container-id-1 label.sk-toggleable__label-arrow:hover:before {color: black;}#sk-container-id-1 div.sk-estimator:hover label.sk-toggleable__label-arrow:before {color: black;}#sk-container-id-1 div.sk-toggleable__content {max-height: 0;max-width: 0;overflow: hidden;text-align: left;background-color: #f0f8ff;}#sk-container-id-1 div.sk-toggleable__content pre {margin: 0.2em;color: black;border-radius: 0.25em;background-color: #f0f8ff;}#sk-container-id-1 input.sk-toggleable__control:checked~div.sk-toggleable__content {max-height: 200px;max-width: 100%;overflow: auto;}#sk-container-id-1 input.sk-toggleable__control:checked~label.sk-toggleable__label-arrow:before {content: \"▾\";}#sk-container-id-1 div.sk-estimator input.sk-toggleable__control:checked~label.sk-toggleable__label {background-color: #d4ebff;}#sk-container-id-1 div.sk-label input.sk-toggleable__control:checked~label.sk-toggleable__label {background-color: #d4ebff;}#sk-container-id-1 input.sk-hidden--visually {border: 0;clip: rect(1px 1px 1px 1px);clip: rect(1px, 1px, 1px, 1px);height: 1px;margin: -1px;overflow: hidden;padding: 0;position: absolute;width: 1px;}#sk-container-id-1 div.sk-estimator {font-family: monospace;background-color: #f0f8ff;border: 1px dotted black;border-radius: 0.25em;box-sizing: border-box;margin-bottom: 0.5em;}#sk-container-id-1 div.sk-estimator:hover {background-color: #d4ebff;}#sk-container-id-1 div.sk-parallel-item::after {content: \"\";width: 100%;border-bottom: 1px solid gray;flex-grow: 1;}#sk-container-id-1 div.sk-label:hover label.sk-toggleable__label {background-color: #d4ebff;}#sk-container-id-1 div.sk-serial::before {content: \"\";position: absolute;border-left: 1px solid gray;box-sizing: border-box;top: 0;bottom: 0;left: 50%;z-index: 0;}#sk-container-id-1 div.sk-serial {display: flex;flex-direction: column;align-items: center;background-color: white;padding-right: 0.2em;padding-left: 0.2em;position: relative;}#sk-container-id-1 div.sk-item {position: relative;z-index: 1;}#sk-container-id-1 div.sk-parallel {display: flex;align-items: stretch;justify-content: center;background-color: white;position: relative;}#sk-container-id-1 div.sk-item::before, #sk-container-id-1 div.sk-parallel-item::before {content: \"\";position: absolute;border-left: 1px solid gray;box-sizing: border-box;top: 0;bottom: 0;left: 50%;z-index: -1;}#sk-container-id-1 div.sk-parallel-item {display: flex;flex-direction: column;z-index: 1;position: relative;background-color: white;}#sk-container-id-1 div.sk-parallel-item:first-child::after {align-self: flex-end;width: 50%;}#sk-container-id-1 div.sk-parallel-item:last-child::after {align-self: flex-start;width: 50%;}#sk-container-id-1 div.sk-parallel-item:only-child::after {width: 0;}#sk-container-id-1 div.sk-dashed-wrapped {border: 1px dashed gray;margin: 0 0.4em 0.5em 0.4em;box-sizing: border-box;padding-bottom: 0.4em;background-color: white;}#sk-container-id-1 div.sk-label label {font-family: monospace;font-weight: bold;display: inline-block;line-height: 1.2em;}#sk-container-id-1 div.sk-label-container {text-align: center;}#sk-container-id-1 div.sk-container {/* jupyter's `normalize.less` sets `[hidden] { display: none; }` but bootstrap.min.css set `[hidden] { display: none !important; }` so we also need the `!important` here to be able to override the default hidden behavior on the sphinx rendered scikit-learn.org. See: https://github.com/scikit-learn/scikit-learn/issues/21755 */display: inline-block !important;position: relative;}#sk-container-id-1 div.sk-text-repr-fallback {display: none;}</style><div id=\"sk-container-id-1\" class=\"sk-top-container\"><div class=\"sk-text-repr-fallback\"><pre>RandomForestRegressor()</pre><b>In a Jupyter environment, please rerun this cell to show the HTML representation or trust the notebook. <br />On GitHub, the HTML representation is unable to render, please try loading this page with nbviewer.org.</b></div><div class=\"sk-container\" hidden><div class=\"sk-item\"><div class=\"sk-estimator sk-toggleable\"><input class=\"sk-toggleable__control sk-hidden--visually\" id=\"sk-estimator-id-1\" type=\"checkbox\" checked><label for=\"sk-estimator-id-1\" class=\"sk-toggleable__label sk-toggleable__label-arrow\">RandomForestRegressor</label><div class=\"sk-toggleable__content\"><pre>RandomForestRegressor()</pre></div></div></div></div></div>"
      ],
      "text/plain": [
       "RandomForestRegressor()"
      ]
     },
     "execution_count": 36,
     "metadata": {},
     "output_type": "execute_result"
    }
   ],
   "source": [
    "model.fit(x_train,y_train)"
   ]
  },
  {
   "cell_type": "code",
   "execution_count": 37,
   "id": "272ff428",
   "metadata": {},
   "outputs": [
    {
     "data": {
      "text/plain": [
       "array([ 7997595.53571429,  8000400.        , 14373000.        , ...,\n",
       "       11472200.48      ,  7505000.        , 44076333.33333334])"
      ]
     },
     "execution_count": 37,
     "metadata": {},
     "output_type": "execute_result"
    }
   ],
   "source": [
    "pre=model.predict(x_test)\n",
    "pre"
   ]
  },
  {
   "cell_type": "code",
   "execution_count": 38,
   "id": "bd13b69b",
   "metadata": {},
   "outputs": [
    {
     "data": {
      "text/plain": [
       "0.9327499516023259"
      ]
     },
     "execution_count": 38,
     "metadata": {},
     "output_type": "execute_result"
    }
   ],
   "source": [
    "model.score(x_test,y_test)"
   ]
  },
  {
   "cell_type": "code",
   "execution_count": 39,
   "id": "b6b64005",
   "metadata": {},
   "outputs": [],
   "source": [
    "comparison=pd.DataFrame({\"ACTUAL\":y_test,\"predicted\":pre})"
   ]
  },
  {
   "cell_type": "code",
   "execution_count": 40,
   "id": "d4bb4aa8",
   "metadata": {},
   "outputs": [
    {
     "data": {
      "text/html": [
       "<div>\n",
       "<style scoped>\n",
       "    .dataframe tbody tr th:only-of-type {\n",
       "        vertical-align: middle;\n",
       "    }\n",
       "\n",
       "    .dataframe tbody tr th {\n",
       "        vertical-align: top;\n",
       "    }\n",
       "\n",
       "    .dataframe thead th {\n",
       "        text-align: right;\n",
       "    }\n",
       "</style>\n",
       "<table border=\"1\" class=\"dataframe\">\n",
       "  <thead>\n",
       "    <tr style=\"text-align: right;\">\n",
       "      <th></th>\n",
       "      <th>ACTUAL</th>\n",
       "      <th>predicted</th>\n",
       "    </tr>\n",
       "  </thead>\n",
       "  <tbody>\n",
       "    <tr>\n",
       "      <th>27188</th>\n",
       "      <td>8300000.0</td>\n",
       "      <td>7.997596e+06</td>\n",
       "    </tr>\n",
       "    <tr>\n",
       "      <th>1332</th>\n",
       "      <td>7800000.0</td>\n",
       "      <td>8.000400e+06</td>\n",
       "    </tr>\n",
       "    <tr>\n",
       "      <th>853</th>\n",
       "      <td>14400000.0</td>\n",
       "      <td>1.437300e+07</td>\n",
       "    </tr>\n",
       "    <tr>\n",
       "      <th>17767</th>\n",
       "      <td>9000000.0</td>\n",
       "      <td>8.450000e+06</td>\n",
       "    </tr>\n",
       "    <tr>\n",
       "      <th>20752</th>\n",
       "      <td>7200000.0</td>\n",
       "      <td>8.787474e+06</td>\n",
       "    </tr>\n",
       "    <tr>\n",
       "      <th>...</th>\n",
       "      <td>...</td>\n",
       "      <td>...</td>\n",
       "    </tr>\n",
       "    <tr>\n",
       "      <th>5144</th>\n",
       "      <td>7879000.0</td>\n",
       "      <td>1.055330e+07</td>\n",
       "    </tr>\n",
       "    <tr>\n",
       "      <th>25540</th>\n",
       "      <td>6000000.0</td>\n",
       "      <td>5.870000e+06</td>\n",
       "    </tr>\n",
       "    <tr>\n",
       "      <th>34214</th>\n",
       "      <td>8500000.0</td>\n",
       "      <td>1.147220e+07</td>\n",
       "    </tr>\n",
       "    <tr>\n",
       "      <th>2385</th>\n",
       "      <td>7600000.0</td>\n",
       "      <td>7.505000e+06</td>\n",
       "    </tr>\n",
       "    <tr>\n",
       "      <th>23415</th>\n",
       "      <td>45000000.0</td>\n",
       "      <td>4.407633e+07</td>\n",
       "    </tr>\n",
       "  </tbody>\n",
       "</table>\n",
       "<p>7508 rows × 2 columns</p>\n",
       "</div>"
      ],
      "text/plain": [
       "           ACTUAL     predicted\n",
       "27188   8300000.0  7.997596e+06\n",
       "1332    7800000.0  8.000400e+06\n",
       "853    14400000.0  1.437300e+07\n",
       "17767   9000000.0  8.450000e+06\n",
       "20752   7200000.0  8.787474e+06\n",
       "...           ...           ...\n",
       "5144    7879000.0  1.055330e+07\n",
       "25540   6000000.0  5.870000e+06\n",
       "34214   8500000.0  1.147220e+07\n",
       "2385    7600000.0  7.505000e+06\n",
       "23415  45000000.0  4.407633e+07\n",
       "\n",
       "[7508 rows x 2 columns]"
      ]
     },
     "execution_count": 40,
     "metadata": {},
     "output_type": "execute_result"
    }
   ],
   "source": [
    "comparison"
   ]
  },
  {
   "cell_type": "markdown",
   "id": "a72434d8",
   "metadata": {},
   "source": [
    "## linear regression"
   ]
  },
  {
   "cell_type": "markdown",
   "id": "c2049066",
   "metadata": {},
   "source": [
    "#### Applying pca"
   ]
  },
  {
   "cell_type": "code",
   "execution_count": 41,
   "id": "9908ea74",
   "metadata": {},
   "outputs": [
    {
     "data": {
      "text/plain": [
       "array([[-2.57108257e+02, -1.62331304e+02, -2.43655984e+00,\n",
       "        -5.48980062e+00],\n",
       "       [-5.89659472e+02, -7.02872882e+01,  2.95786553e+00,\n",
       "        -8.99091554e-01],\n",
       "       [-1.20000982e+03,  1.56129615e+02,  1.01021169e+01,\n",
       "         6.78964276e-01],\n",
       "       ...,\n",
       "       [-6.50386508e+02, -1.16658089e+02,  2.55361282e+00,\n",
       "         1.95223531e+00],\n",
       "       [-7.93787952e+02, -2.18505597e+02,  2.73966167e+00,\n",
       "         1.68732649e+00],\n",
       "       [ 2.69328622e+03, -2.19949686e+02, -7.71302263e+00,\n",
       "         1.36243364e-01]])"
      ]
     },
     "execution_count": 41,
     "metadata": {},
     "output_type": "execute_result"
    }
   ],
   "source": [
    "pc=PCA(n_components=4)\n",
    "pc.fit_transform(x)"
   ]
  },
  {
   "cell_type": "code",
   "execution_count": 42,
   "id": "ee5206c1",
   "metadata": {},
   "outputs": [],
   "source": [
    "x_train,x_test,y_train,y_test=train_test_split(x,y,test_size=0.2,random_state=42)"
   ]
  },
  {
   "cell_type": "code",
   "execution_count": 43,
   "id": "f300cfcb",
   "metadata": {},
   "outputs": [
    {
     "data": {
      "text/html": [
       "<style>#sk-container-id-2 {color: black;background-color: white;}#sk-container-id-2 pre{padding: 0;}#sk-container-id-2 div.sk-toggleable {background-color: white;}#sk-container-id-2 label.sk-toggleable__label {cursor: pointer;display: block;width: 100%;margin-bottom: 0;padding: 0.3em;box-sizing: border-box;text-align: center;}#sk-container-id-2 label.sk-toggleable__label-arrow:before {content: \"▸\";float: left;margin-right: 0.25em;color: #696969;}#sk-container-id-2 label.sk-toggleable__label-arrow:hover:before {color: black;}#sk-container-id-2 div.sk-estimator:hover label.sk-toggleable__label-arrow:before {color: black;}#sk-container-id-2 div.sk-toggleable__content {max-height: 0;max-width: 0;overflow: hidden;text-align: left;background-color: #f0f8ff;}#sk-container-id-2 div.sk-toggleable__content pre {margin: 0.2em;color: black;border-radius: 0.25em;background-color: #f0f8ff;}#sk-container-id-2 input.sk-toggleable__control:checked~div.sk-toggleable__content {max-height: 200px;max-width: 100%;overflow: auto;}#sk-container-id-2 input.sk-toggleable__control:checked~label.sk-toggleable__label-arrow:before {content: \"▾\";}#sk-container-id-2 div.sk-estimator input.sk-toggleable__control:checked~label.sk-toggleable__label {background-color: #d4ebff;}#sk-container-id-2 div.sk-label input.sk-toggleable__control:checked~label.sk-toggleable__label {background-color: #d4ebff;}#sk-container-id-2 input.sk-hidden--visually {border: 0;clip: rect(1px 1px 1px 1px);clip: rect(1px, 1px, 1px, 1px);height: 1px;margin: -1px;overflow: hidden;padding: 0;position: absolute;width: 1px;}#sk-container-id-2 div.sk-estimator {font-family: monospace;background-color: #f0f8ff;border: 1px dotted black;border-radius: 0.25em;box-sizing: border-box;margin-bottom: 0.5em;}#sk-container-id-2 div.sk-estimator:hover {background-color: #d4ebff;}#sk-container-id-2 div.sk-parallel-item::after {content: \"\";width: 100%;border-bottom: 1px solid gray;flex-grow: 1;}#sk-container-id-2 div.sk-label:hover label.sk-toggleable__label {background-color: #d4ebff;}#sk-container-id-2 div.sk-serial::before {content: \"\";position: absolute;border-left: 1px solid gray;box-sizing: border-box;top: 0;bottom: 0;left: 50%;z-index: 0;}#sk-container-id-2 div.sk-serial {display: flex;flex-direction: column;align-items: center;background-color: white;padding-right: 0.2em;padding-left: 0.2em;position: relative;}#sk-container-id-2 div.sk-item {position: relative;z-index: 1;}#sk-container-id-2 div.sk-parallel {display: flex;align-items: stretch;justify-content: center;background-color: white;position: relative;}#sk-container-id-2 div.sk-item::before, #sk-container-id-2 div.sk-parallel-item::before {content: \"\";position: absolute;border-left: 1px solid gray;box-sizing: border-box;top: 0;bottom: 0;left: 50%;z-index: -1;}#sk-container-id-2 div.sk-parallel-item {display: flex;flex-direction: column;z-index: 1;position: relative;background-color: white;}#sk-container-id-2 div.sk-parallel-item:first-child::after {align-self: flex-end;width: 50%;}#sk-container-id-2 div.sk-parallel-item:last-child::after {align-self: flex-start;width: 50%;}#sk-container-id-2 div.sk-parallel-item:only-child::after {width: 0;}#sk-container-id-2 div.sk-dashed-wrapped {border: 1px dashed gray;margin: 0 0.4em 0.5em 0.4em;box-sizing: border-box;padding-bottom: 0.4em;background-color: white;}#sk-container-id-2 div.sk-label label {font-family: monospace;font-weight: bold;display: inline-block;line-height: 1.2em;}#sk-container-id-2 div.sk-label-container {text-align: center;}#sk-container-id-2 div.sk-container {/* jupyter's `normalize.less` sets `[hidden] { display: none; }` but bootstrap.min.css set `[hidden] { display: none !important; }` so we also need the `!important` here to be able to override the default hidden behavior on the sphinx rendered scikit-learn.org. See: https://github.com/scikit-learn/scikit-learn/issues/21755 */display: inline-block !important;position: relative;}#sk-container-id-2 div.sk-text-repr-fallback {display: none;}</style><div id=\"sk-container-id-2\" class=\"sk-top-container\"><div class=\"sk-text-repr-fallback\"><pre>LinearRegression()</pre><b>In a Jupyter environment, please rerun this cell to show the HTML representation or trust the notebook. <br />On GitHub, the HTML representation is unable to render, please try loading this page with nbviewer.org.</b></div><div class=\"sk-container\" hidden><div class=\"sk-item\"><div class=\"sk-estimator sk-toggleable\"><input class=\"sk-toggleable__control sk-hidden--visually\" id=\"sk-estimator-id-2\" type=\"checkbox\" checked><label for=\"sk-estimator-id-2\" class=\"sk-toggleable__label sk-toggleable__label-arrow\">LinearRegression</label><div class=\"sk-toggleable__content\"><pre>LinearRegression()</pre></div></div></div></div></div>"
      ],
      "text/plain": [
       "LinearRegression()"
      ]
     },
     "execution_count": 43,
     "metadata": {},
     "output_type": "execute_result"
    }
   ],
   "source": [
    "model1=LinearRegression()\n",
    "model1.fit(x_train,y_train)"
   ]
  },
  {
   "cell_type": "code",
   "execution_count": 44,
   "id": "80609a14",
   "metadata": {},
   "outputs": [
    {
     "data": {
      "text/plain": [
       "array([ 8353364.52641368,  9004286.26603689, 45666309.01486568, ...,\n",
       "       18225470.81196114, 10597724.090756  , 42569854.42164581])"
      ]
     },
     "execution_count": 44,
     "metadata": {},
     "output_type": "execute_result"
    }
   ],
   "source": [
    "pred=model1.predict(x_test)\n",
    "pred"
   ]
  },
  {
   "cell_type": "code",
   "execution_count": 45,
   "id": "4d9da1a8",
   "metadata": {},
   "outputs": [
    {
     "data": {
      "text/plain": [
       "0.5302340054234251"
      ]
     },
     "execution_count": 45,
     "metadata": {},
     "output_type": "execute_result"
    }
   ],
   "source": [
    "model1.score(x_test,y_test)"
   ]
  },
  {
   "cell_type": "markdown",
   "id": "24a1e513",
   "metadata": {},
   "source": [
    "## Decision tree"
   ]
  },
  {
   "cell_type": "code",
   "execution_count": 46,
   "id": "962c9ff8",
   "metadata": {},
   "outputs": [],
   "source": [
    "reg=DecisionTreeRegressor()"
   ]
  },
  {
   "cell_type": "code",
   "execution_count": 47,
   "id": "8c717b24",
   "metadata": {},
   "outputs": [
    {
     "data": {
      "text/html": [
       "<style>#sk-container-id-3 {color: black;background-color: white;}#sk-container-id-3 pre{padding: 0;}#sk-container-id-3 div.sk-toggleable {background-color: white;}#sk-container-id-3 label.sk-toggleable__label {cursor: pointer;display: block;width: 100%;margin-bottom: 0;padding: 0.3em;box-sizing: border-box;text-align: center;}#sk-container-id-3 label.sk-toggleable__label-arrow:before {content: \"▸\";float: left;margin-right: 0.25em;color: #696969;}#sk-container-id-3 label.sk-toggleable__label-arrow:hover:before {color: black;}#sk-container-id-3 div.sk-estimator:hover label.sk-toggleable__label-arrow:before {color: black;}#sk-container-id-3 div.sk-toggleable__content {max-height: 0;max-width: 0;overflow: hidden;text-align: left;background-color: #f0f8ff;}#sk-container-id-3 div.sk-toggleable__content pre {margin: 0.2em;color: black;border-radius: 0.25em;background-color: #f0f8ff;}#sk-container-id-3 input.sk-toggleable__control:checked~div.sk-toggleable__content {max-height: 200px;max-width: 100%;overflow: auto;}#sk-container-id-3 input.sk-toggleable__control:checked~label.sk-toggleable__label-arrow:before {content: \"▾\";}#sk-container-id-3 div.sk-estimator input.sk-toggleable__control:checked~label.sk-toggleable__label {background-color: #d4ebff;}#sk-container-id-3 div.sk-label input.sk-toggleable__control:checked~label.sk-toggleable__label {background-color: #d4ebff;}#sk-container-id-3 input.sk-hidden--visually {border: 0;clip: rect(1px 1px 1px 1px);clip: rect(1px, 1px, 1px, 1px);height: 1px;margin: -1px;overflow: hidden;padding: 0;position: absolute;width: 1px;}#sk-container-id-3 div.sk-estimator {font-family: monospace;background-color: #f0f8ff;border: 1px dotted black;border-radius: 0.25em;box-sizing: border-box;margin-bottom: 0.5em;}#sk-container-id-3 div.sk-estimator:hover {background-color: #d4ebff;}#sk-container-id-3 div.sk-parallel-item::after {content: \"\";width: 100%;border-bottom: 1px solid gray;flex-grow: 1;}#sk-container-id-3 div.sk-label:hover label.sk-toggleable__label {background-color: #d4ebff;}#sk-container-id-3 div.sk-serial::before {content: \"\";position: absolute;border-left: 1px solid gray;box-sizing: border-box;top: 0;bottom: 0;left: 50%;z-index: 0;}#sk-container-id-3 div.sk-serial {display: flex;flex-direction: column;align-items: center;background-color: white;padding-right: 0.2em;padding-left: 0.2em;position: relative;}#sk-container-id-3 div.sk-item {position: relative;z-index: 1;}#sk-container-id-3 div.sk-parallel {display: flex;align-items: stretch;justify-content: center;background-color: white;position: relative;}#sk-container-id-3 div.sk-item::before, #sk-container-id-3 div.sk-parallel-item::before {content: \"\";position: absolute;border-left: 1px solid gray;box-sizing: border-box;top: 0;bottom: 0;left: 50%;z-index: -1;}#sk-container-id-3 div.sk-parallel-item {display: flex;flex-direction: column;z-index: 1;position: relative;background-color: white;}#sk-container-id-3 div.sk-parallel-item:first-child::after {align-self: flex-end;width: 50%;}#sk-container-id-3 div.sk-parallel-item:last-child::after {align-self: flex-start;width: 50%;}#sk-container-id-3 div.sk-parallel-item:only-child::after {width: 0;}#sk-container-id-3 div.sk-dashed-wrapped {border: 1px dashed gray;margin: 0 0.4em 0.5em 0.4em;box-sizing: border-box;padding-bottom: 0.4em;background-color: white;}#sk-container-id-3 div.sk-label label {font-family: monospace;font-weight: bold;display: inline-block;line-height: 1.2em;}#sk-container-id-3 div.sk-label-container {text-align: center;}#sk-container-id-3 div.sk-container {/* jupyter's `normalize.less` sets `[hidden] { display: none; }` but bootstrap.min.css set `[hidden] { display: none !important; }` so we also need the `!important` here to be able to override the default hidden behavior on the sphinx rendered scikit-learn.org. See: https://github.com/scikit-learn/scikit-learn/issues/21755 */display: inline-block !important;position: relative;}#sk-container-id-3 div.sk-text-repr-fallback {display: none;}</style><div id=\"sk-container-id-3\" class=\"sk-top-container\"><div class=\"sk-text-repr-fallback\"><pre>DecisionTreeRegressor()</pre><b>In a Jupyter environment, please rerun this cell to show the HTML representation or trust the notebook. <br />On GitHub, the HTML representation is unable to render, please try loading this page with nbviewer.org.</b></div><div class=\"sk-container\" hidden><div class=\"sk-item\"><div class=\"sk-estimator sk-toggleable\"><input class=\"sk-toggleable__control sk-hidden--visually\" id=\"sk-estimator-id-3\" type=\"checkbox\" checked><label for=\"sk-estimator-id-3\" class=\"sk-toggleable__label sk-toggleable__label-arrow\">DecisionTreeRegressor</label><div class=\"sk-toggleable__content\"><pre>DecisionTreeRegressor()</pre></div></div></div></div></div>"
      ],
      "text/plain": [
       "DecisionTreeRegressor()"
      ]
     },
     "execution_count": 47,
     "metadata": {},
     "output_type": "execute_result"
    }
   ],
   "source": [
    "reg.fit(x_train,y_train)"
   ]
  },
  {
   "cell_type": "code",
   "execution_count": 48,
   "id": "f9e8e84b",
   "metadata": {},
   "outputs": [],
   "source": [
    "pred1=reg.predict(x_test)"
   ]
  },
  {
   "cell_type": "code",
   "execution_count": 49,
   "id": "10b5f725",
   "metadata": {},
   "outputs": [
    {
     "data": {
      "text/plain": [
       "array([ 7832000.,  8050000., 14400000., ...,  9000000.,  7600000.,\n",
       "       51600000.])"
      ]
     },
     "execution_count": 49,
     "metadata": {},
     "output_type": "execute_result"
    }
   ],
   "source": [
    "pred1"
   ]
  },
  {
   "cell_type": "code",
   "execution_count": 50,
   "id": "2d68b7c6",
   "metadata": {},
   "outputs": [
    {
     "data": {
      "text/plain": [
       "0.8919845510923485"
      ]
     },
     "execution_count": 50,
     "metadata": {},
     "output_type": "execute_result"
    }
   ],
   "source": [
    "reg.score(x_test,y_test)"
   ]
  },
  {
   "cell_type": "markdown",
   "id": "ecee1ede",
   "metadata": {},
   "source": [
    "# SVM"
   ]
  },
  {
   "cell_type": "code",
   "execution_count": 51,
   "id": "2a757a59",
   "metadata": {},
   "outputs": [],
   "source": [
    "from sklearn.svm import SVR #support vector machines"
   ]
  },
  {
   "cell_type": "code",
   "execution_count": 52,
   "id": "3881e093",
   "metadata": {},
   "outputs": [],
   "source": [
    "reg2=SVR()"
   ]
  },
  {
   "cell_type": "code",
   "execution_count": 53,
   "id": "bc4c35cd",
   "metadata": {},
   "outputs": [
    {
     "data": {
      "text/html": [
       "<style>#sk-container-id-4 {color: black;background-color: white;}#sk-container-id-4 pre{padding: 0;}#sk-container-id-4 div.sk-toggleable {background-color: white;}#sk-container-id-4 label.sk-toggleable__label {cursor: pointer;display: block;width: 100%;margin-bottom: 0;padding: 0.3em;box-sizing: border-box;text-align: center;}#sk-container-id-4 label.sk-toggleable__label-arrow:before {content: \"▸\";float: left;margin-right: 0.25em;color: #696969;}#sk-container-id-4 label.sk-toggleable__label-arrow:hover:before {color: black;}#sk-container-id-4 div.sk-estimator:hover label.sk-toggleable__label-arrow:before {color: black;}#sk-container-id-4 div.sk-toggleable__content {max-height: 0;max-width: 0;overflow: hidden;text-align: left;background-color: #f0f8ff;}#sk-container-id-4 div.sk-toggleable__content pre {margin: 0.2em;color: black;border-radius: 0.25em;background-color: #f0f8ff;}#sk-container-id-4 input.sk-toggleable__control:checked~div.sk-toggleable__content {max-height: 200px;max-width: 100%;overflow: auto;}#sk-container-id-4 input.sk-toggleable__control:checked~label.sk-toggleable__label-arrow:before {content: \"▾\";}#sk-container-id-4 div.sk-estimator input.sk-toggleable__control:checked~label.sk-toggleable__label {background-color: #d4ebff;}#sk-container-id-4 div.sk-label input.sk-toggleable__control:checked~label.sk-toggleable__label {background-color: #d4ebff;}#sk-container-id-4 input.sk-hidden--visually {border: 0;clip: rect(1px 1px 1px 1px);clip: rect(1px, 1px, 1px, 1px);height: 1px;margin: -1px;overflow: hidden;padding: 0;position: absolute;width: 1px;}#sk-container-id-4 div.sk-estimator {font-family: monospace;background-color: #f0f8ff;border: 1px dotted black;border-radius: 0.25em;box-sizing: border-box;margin-bottom: 0.5em;}#sk-container-id-4 div.sk-estimator:hover {background-color: #d4ebff;}#sk-container-id-4 div.sk-parallel-item::after {content: \"\";width: 100%;border-bottom: 1px solid gray;flex-grow: 1;}#sk-container-id-4 div.sk-label:hover label.sk-toggleable__label {background-color: #d4ebff;}#sk-container-id-4 div.sk-serial::before {content: \"\";position: absolute;border-left: 1px solid gray;box-sizing: border-box;top: 0;bottom: 0;left: 50%;z-index: 0;}#sk-container-id-4 div.sk-serial {display: flex;flex-direction: column;align-items: center;background-color: white;padding-right: 0.2em;padding-left: 0.2em;position: relative;}#sk-container-id-4 div.sk-item {position: relative;z-index: 1;}#sk-container-id-4 div.sk-parallel {display: flex;align-items: stretch;justify-content: center;background-color: white;position: relative;}#sk-container-id-4 div.sk-item::before, #sk-container-id-4 div.sk-parallel-item::before {content: \"\";position: absolute;border-left: 1px solid gray;box-sizing: border-box;top: 0;bottom: 0;left: 50%;z-index: -1;}#sk-container-id-4 div.sk-parallel-item {display: flex;flex-direction: column;z-index: 1;position: relative;background-color: white;}#sk-container-id-4 div.sk-parallel-item:first-child::after {align-self: flex-end;width: 50%;}#sk-container-id-4 div.sk-parallel-item:last-child::after {align-self: flex-start;width: 50%;}#sk-container-id-4 div.sk-parallel-item:only-child::after {width: 0;}#sk-container-id-4 div.sk-dashed-wrapped {border: 1px dashed gray;margin: 0 0.4em 0.5em 0.4em;box-sizing: border-box;padding-bottom: 0.4em;background-color: white;}#sk-container-id-4 div.sk-label label {font-family: monospace;font-weight: bold;display: inline-block;line-height: 1.2em;}#sk-container-id-4 div.sk-label-container {text-align: center;}#sk-container-id-4 div.sk-container {/* jupyter's `normalize.less` sets `[hidden] { display: none; }` but bootstrap.min.css set `[hidden] { display: none !important; }` so we also need the `!important` here to be able to override the default hidden behavior on the sphinx rendered scikit-learn.org. See: https://github.com/scikit-learn/scikit-learn/issues/21755 */display: inline-block !important;position: relative;}#sk-container-id-4 div.sk-text-repr-fallback {display: none;}</style><div id=\"sk-container-id-4\" class=\"sk-top-container\"><div class=\"sk-text-repr-fallback\"><pre>SVR()</pre><b>In a Jupyter environment, please rerun this cell to show the HTML representation or trust the notebook. <br />On GitHub, the HTML representation is unable to render, please try loading this page with nbviewer.org.</b></div><div class=\"sk-container\" hidden><div class=\"sk-item\"><div class=\"sk-estimator sk-toggleable\"><input class=\"sk-toggleable__control sk-hidden--visually\" id=\"sk-estimator-id-4\" type=\"checkbox\" checked><label for=\"sk-estimator-id-4\" class=\"sk-toggleable__label sk-toggleable__label-arrow\">SVR</label><div class=\"sk-toggleable__content\"><pre>SVR()</pre></div></div></div></div></div>"
      ],
      "text/plain": [
       "SVR()"
      ]
     },
     "execution_count": 53,
     "metadata": {},
     "output_type": "execute_result"
    }
   ],
   "source": [
    "reg2.fit(x_train,y_train)"
   ]
  },
  {
   "cell_type": "code",
   "execution_count": 54,
   "id": "e96ae815",
   "metadata": {},
   "outputs": [],
   "source": [
    "pred2=reg2.predict(x_test)"
   ]
  },
  {
   "cell_type": "code",
   "execution_count": 55,
   "id": "003593ad",
   "metadata": {},
   "outputs": [
    {
     "data": {
      "text/plain": [
       "array([8500117.76947002, 8500118.62101751, 8502863.55583132, ...,\n",
       "       8500910.84231712, 8499821.9905383 , 8506331.020698  ])"
      ]
     },
     "execution_count": 55,
     "metadata": {},
     "output_type": "execute_result"
    }
   ],
   "source": [
    "pred2"
   ]
  },
  {
   "cell_type": "code",
   "execution_count": 63,
   "id": "eb01b4da",
   "metadata": {},
   "outputs": [
    {
     "data": {
      "text/plain": [
       "-0.13266705934484113"
      ]
     },
     "execution_count": 63,
     "metadata": {},
     "output_type": "execute_result"
    }
   ],
   "source": [
    "reg2.score(x_test,y_test)"
   ]
  },
  {
   "cell_type": "markdown",
   "id": "a5a5b1c4",
   "metadata": {},
   "source": [
    "## Gradient boosting "
   ]
  },
  {
   "cell_type": "code",
   "execution_count": 58,
   "id": "16824476",
   "metadata": {},
   "outputs": [],
   "source": [
    "from sklearn.ensemble import GradientBoostingRegressor"
   ]
  },
  {
   "cell_type": "code",
   "execution_count": 59,
   "id": "c5b5efab",
   "metadata": {},
   "outputs": [
    {
     "data": {
      "text/html": [
       "<style>#sk-container-id-5 {color: black;background-color: white;}#sk-container-id-5 pre{padding: 0;}#sk-container-id-5 div.sk-toggleable {background-color: white;}#sk-container-id-5 label.sk-toggleable__label {cursor: pointer;display: block;width: 100%;margin-bottom: 0;padding: 0.3em;box-sizing: border-box;text-align: center;}#sk-container-id-5 label.sk-toggleable__label-arrow:before {content: \"▸\";float: left;margin-right: 0.25em;color: #696969;}#sk-container-id-5 label.sk-toggleable__label-arrow:hover:before {color: black;}#sk-container-id-5 div.sk-estimator:hover label.sk-toggleable__label-arrow:before {color: black;}#sk-container-id-5 div.sk-toggleable__content {max-height: 0;max-width: 0;overflow: hidden;text-align: left;background-color: #f0f8ff;}#sk-container-id-5 div.sk-toggleable__content pre {margin: 0.2em;color: black;border-radius: 0.25em;background-color: #f0f8ff;}#sk-container-id-5 input.sk-toggleable__control:checked~div.sk-toggleable__content {max-height: 200px;max-width: 100%;overflow: auto;}#sk-container-id-5 input.sk-toggleable__control:checked~label.sk-toggleable__label-arrow:before {content: \"▾\";}#sk-container-id-5 div.sk-estimator input.sk-toggleable__control:checked~label.sk-toggleable__label {background-color: #d4ebff;}#sk-container-id-5 div.sk-label input.sk-toggleable__control:checked~label.sk-toggleable__label {background-color: #d4ebff;}#sk-container-id-5 input.sk-hidden--visually {border: 0;clip: rect(1px 1px 1px 1px);clip: rect(1px, 1px, 1px, 1px);height: 1px;margin: -1px;overflow: hidden;padding: 0;position: absolute;width: 1px;}#sk-container-id-5 div.sk-estimator {font-family: monospace;background-color: #f0f8ff;border: 1px dotted black;border-radius: 0.25em;box-sizing: border-box;margin-bottom: 0.5em;}#sk-container-id-5 div.sk-estimator:hover {background-color: #d4ebff;}#sk-container-id-5 div.sk-parallel-item::after {content: \"\";width: 100%;border-bottom: 1px solid gray;flex-grow: 1;}#sk-container-id-5 div.sk-label:hover label.sk-toggleable__label {background-color: #d4ebff;}#sk-container-id-5 div.sk-serial::before {content: \"\";position: absolute;border-left: 1px solid gray;box-sizing: border-box;top: 0;bottom: 0;left: 50%;z-index: 0;}#sk-container-id-5 div.sk-serial {display: flex;flex-direction: column;align-items: center;background-color: white;padding-right: 0.2em;padding-left: 0.2em;position: relative;}#sk-container-id-5 div.sk-item {position: relative;z-index: 1;}#sk-container-id-5 div.sk-parallel {display: flex;align-items: stretch;justify-content: center;background-color: white;position: relative;}#sk-container-id-5 div.sk-item::before, #sk-container-id-5 div.sk-parallel-item::before {content: \"\";position: absolute;border-left: 1px solid gray;box-sizing: border-box;top: 0;bottom: 0;left: 50%;z-index: -1;}#sk-container-id-5 div.sk-parallel-item {display: flex;flex-direction: column;z-index: 1;position: relative;background-color: white;}#sk-container-id-5 div.sk-parallel-item:first-child::after {align-self: flex-end;width: 50%;}#sk-container-id-5 div.sk-parallel-item:last-child::after {align-self: flex-start;width: 50%;}#sk-container-id-5 div.sk-parallel-item:only-child::after {width: 0;}#sk-container-id-5 div.sk-dashed-wrapped {border: 1px dashed gray;margin: 0 0.4em 0.5em 0.4em;box-sizing: border-box;padding-bottom: 0.4em;background-color: white;}#sk-container-id-5 div.sk-label label {font-family: monospace;font-weight: bold;display: inline-block;line-height: 1.2em;}#sk-container-id-5 div.sk-label-container {text-align: center;}#sk-container-id-5 div.sk-container {/* jupyter's `normalize.less` sets `[hidden] { display: none; }` but bootstrap.min.css set `[hidden] { display: none !important; }` so we also need the `!important` here to be able to override the default hidden behavior on the sphinx rendered scikit-learn.org. See: https://github.com/scikit-learn/scikit-learn/issues/21755 */display: inline-block !important;position: relative;}#sk-container-id-5 div.sk-text-repr-fallback {display: none;}</style><div id=\"sk-container-id-5\" class=\"sk-top-container\"><div class=\"sk-text-repr-fallback\"><pre>GradientBoostingRegressor()</pre><b>In a Jupyter environment, please rerun this cell to show the HTML representation or trust the notebook. <br />On GitHub, the HTML representation is unable to render, please try loading this page with nbviewer.org.</b></div><div class=\"sk-container\" hidden><div class=\"sk-item\"><div class=\"sk-estimator sk-toggleable\"><input class=\"sk-toggleable__control sk-hidden--visually\" id=\"sk-estimator-id-5\" type=\"checkbox\" checked><label for=\"sk-estimator-id-5\" class=\"sk-toggleable__label sk-toggleable__label-arrow\">GradientBoostingRegressor</label><div class=\"sk-toggleable__content\"><pre>GradientBoostingRegressor()</pre></div></div></div></div></div>"
      ],
      "text/plain": [
       "GradientBoostingRegressor()"
      ]
     },
     "execution_count": 59,
     "metadata": {},
     "output_type": "execute_result"
    }
   ],
   "source": [
    "model2=GradientBoostingRegressor()\n",
    "model2.fit(x_train,y_train)"
   ]
  },
  {
   "cell_type": "code",
   "execution_count": 60,
   "id": "546530a4",
   "metadata": {},
   "outputs": [],
   "source": [
    "predctd=model2.predict(x_test)"
   ]
  },
  {
   "cell_type": "code",
   "execution_count": 61,
   "id": "a19ea388",
   "metadata": {},
   "outputs": [
    {
     "data": {
      "text/plain": [
       "array([ 6079856.70484414,  6097804.36489948, 14224828.16009359, ...,\n",
       "        9780885.06674614,  5196751.22254616, 44924911.50968939])"
      ]
     },
     "execution_count": 61,
     "metadata": {},
     "output_type": "execute_result"
    }
   ],
   "source": [
    "predctd"
   ]
  },
  {
   "cell_type": "code",
   "execution_count": 62,
   "id": "3f2789d0",
   "metadata": {},
   "outputs": [
    {
     "data": {
      "text/plain": [
       "0.8777078022889169"
      ]
     },
     "execution_count": 62,
     "metadata": {},
     "output_type": "execute_result"
    }
   ],
   "source": [
    "model2.score(x_test,y_test)"
   ]
  },
  {
   "cell_type": "code",
   "execution_count": null,
   "id": "8e66ce7b",
   "metadata": {},
   "outputs": [],
   "source": []
  },
  {
   "cell_type": "code",
   "execution_count": null,
   "id": "ae47b4b9",
   "metadata": {},
   "outputs": [],
   "source": []
  }
 ],
 "metadata": {
  "kernelspec": {
   "display_name": "Python 3 (ipykernel)",
   "language": "python",
   "name": "python3"
  },
  "language_info": {
   "codemirror_mode": {
    "name": "ipython",
    "version": 3
   },
   "file_extension": ".py",
   "mimetype": "text/x-python",
   "name": "python",
   "nbconvert_exporter": "python",
   "pygments_lexer": "ipython3",
   "version": "3.10.9"
  }
 },
 "nbformat": 4,
 "nbformat_minor": 5
}
